{
 "cells": [
  {
   "cell_type": "code",
   "execution_count": null,
   "id": "ac89bfd9-15bb-4122-9901-9ed0e3c0e2d5",
   "metadata": {},
   "outputs": [],
   "source": [
    "# import warnings\n",
    "# warnings.filterwarnings('ignore')"
   ]
  },
  {
   "cell_type": "code",
   "execution_count": 1,
   "id": "f7758451-66c5-4061-8165-ed45f0bbe98b",
   "metadata": {},
   "outputs": [],
   "source": [
    "import os\n",
    "\n",
    "from dotenv import load_dotenv, find_dotenv\n",
    "_ = load_dotenv(find_dotenv()) # загружаем open_ai_key"
   ]
  },
  {
   "cell_type": "code",
   "execution_count": 2,
   "id": "7b71661b-0842-4081-8c17-0a313c4d0930",
   "metadata": {},
   "outputs": [],
   "source": [
    "import json"
   ]
  },
  {
   "cell_type": "code",
   "execution_count": 3,
   "id": "bd31cb1a-d0c6-4b3d-ade5-3d7d72af8559",
   "metadata": {},
   "outputs": [],
   "source": [
    "from langchain.chat_models import ChatOpenAI\n",
    "from langchain.prompts import ChatPromptTemplate\n",
    "from langchain.prompts.chat import (\n",
    "SystemMessage, \n",
    "HumanMessage, \n",
    "AIMessage,\n",
    "HumanMessagePromptTemplate, \n",
    "SystemMessagePromptTemplate\n",
    ")\n",
    "from langchain.chains import ConversationChain, LLMChain\n",
    "from langchain.memory import ConversationBufferMemory, ChatMessageHistory\n",
    "\n",
    "from langchain.agents import load_tools\n",
    "from langchain.agents import initialize_agent\n",
    "from langchain.agents import AgentType\n",
    "from langchain.agents import OpenAIFunctionsAgent\n",
    "from langchain.agents import AgentExecutor\n",
    "\n",
    "\n",
    "\n",
    "from langchain.tools import DuckDuckGoSearchRun\n"
   ]
  },
  {
   "cell_type": "code",
   "execution_count": 4,
   "id": "a6cac3f0-6560-4c7d-b0ca-4b095095e802",
   "metadata": {},
   "outputs": [],
   "source": [
    "model='gpt-3.5-turbo' # 4k токенов контекст\n",
    "# model='gpt-3.5-turbo-16k' # 16k токенов контекст, подороже\n",
    "# model='gpt-4' # дорогая для использования"
   ]
  },
  {
   "cell_type": "code",
   "execution_count": 5,
   "id": "afb94512-a461-4417-b62b-afe2de63a6b1",
   "metadata": {},
   "outputs": [],
   "source": [
    "llm = ChatOpenAI(temperature=0.0,model=model)\n",
    "# chat"
   ]
  },
  {
   "cell_type": "markdown",
   "id": "bc015c37-e028-4173-9d38-a8ea728b64c7",
   "metadata": {},
   "source": [
    "### Название"
   ]
  },
  {
   "cell_type": "markdown",
   "id": "ebd13ac4-e99e-472b-84bc-a88c7f6ea644",
   "metadata": {},
   "source": [
    "Никита делает"
   ]
  },
  {
   "cell_type": "markdown",
   "id": "4b35e210-7432-4f2c-be02-53af21ca368d",
   "metadata": {},
   "source": [
    "### Проблема"
   ]
  },
  {
   "cell_type": "markdown",
   "id": "b9609be2-5ea0-478b-8fee-e8ffdcc480aa",
   "metadata": {},
   "source": [
    "Создание промпта для переформулировки проблемы, которую присылает стартапер."
   ]
  },
  {
   "cell_type": "code",
   "execution_count": null,
   "id": "864aa625-bda0-4d0f-a336-408f1a261160",
   "metadata": {},
   "outputs": [],
   "source": [
    "role = '''Ты превосходный специалист по созданию питч деков. Сейчас ты помогаешь владельцу стартапа написать отличный питч дек.\n",
    "'''"
   ]
  },
  {
   "cell_type": "markdown",
   "id": "c6da2753-32a9-4360-897e-4926e56dff29",
   "metadata": {},
   "source": [
    "Затем мы описываем контекст того, как нужно расписать проблему и почему в соответствии с принципами Y Combinator"
   ]
  },
  {
   "cell_type": "code",
   "execution_count": null,
   "id": "32862d4b-39c7-4fbd-8828-d989336b744d",
   "metadata": {},
   "outputs": [],
   "source": [
    "details = '''\n",
    "Первым этапом проработки питч-дека является проработка проблемы.\n",
    "Проблема - это то, что пытается решить стартап. \n",
    "Проблема – это начальные условия, определяющие контекст, в котором ваша компания может расти быстро. Хорошая проблема популярна, растет, требует срочного решения, дорогостояща, обязательна и встречается часто. Инсайт в проблему показывает, почему ваше решение имеет конкурентное преимущество в плане роста. Выбирайте проблемы, которые соответствуют этим характеристикам, чтобы убедить инвесторов и привлечь внимание пользователей.\n",
    "У проблемы, которая привлекательная для инвесторов есть характеристики:\n",
    "\n",
    "1. Популярность: Популярность проблемы означает, что она актуальна для большого числа людей. Большой спрос на решение этой проблемы подразумевает, что существует значительная группа людей, которые сталкиваются с ней и ищут способы ее решения. Чем более широко проблема распространена, тем выше потенциал для быстрого роста вашей компании. В сущности, это уже текущий объем потенциальных клиентов.\n",
    "\n",
    "2. Рост: Рост проблемы означает, что рынок, связанный с этой проблемой, растет быстрее, чем другие рынки. Это может быть обусловлено повышенным спросом на решение данной проблемы или изменениями в обществе, экономике или технологиях, которые стимулируют увеличение количества людей, сталкивающихся с этой проблемой. Иметь дело с растущей проблемой означает, что у вашей компании есть потенциал привлечь все больше пользователей и клиентов, что может способствовать быстрому росту бизнеса. В сущности, это степень роста рынка этой проблемы.\n",
    "\n",
    "3. Срочность: Проблема считается срочной, если ее решение требуется немедленно или в ближайшем будущем. Срочные проблемы обычно вызывают дискомфорт, требуют внимания и действий в краткосрочной перспективе. Когда пользователи осознают, что проблема требует немедленного решения, это может способствовать активному поиску подходящих решений, включая продукты и услуги, предлагаемые вашим стартапом. В сущности, это характеристика или степень безотлагательности решения проблемы.\n",
    "\n",
    "4. Затраты: В данном контексте затраты на решение проблемы скорее означают, что пользователи могут быть готовы платить значительные суммы за эффективное решение данной проблемы. То есть, если проблема дорогостояща для пользователей, то ваш стартап может предлагать решение, которое оправдывает эти затраты. В сущности, это денежный объем рынка проблемы.\n",
    "\n",
    "5. Обязательность: Проблема с обязательностью означает, что люди должны решить ее по каким-то обстоятельствам. Это может быть связано с законодательством, регулированием, требованиями индустрии или другими факторами, которые обязывают пользователей найти способы решить данную проблему. Проблемы, которые обязательны к решению, создают своеобразную неотложность для пользователей, и это может стимулировать их активное взаимодействие с вашим стартапом, предоставляющим решение этой обязательной проблемы.\n",
    "\n",
    "6. Частота: Проблема с частотой означает, что она проявляется у людей с высокой регулярностью или в определенные моменты времени. Это может быть проблема, с которой пользователи сталкиваются неоднократно, возможно, даже ежедневно или еженедельно. Проблемы с высокой частотой обеспечивают множество возможностей для вашего стартапа взаимодействовать с пользователями и предоставлять им решения. Когда проблема проявляется с высокой частотой, это может создать более постоянную потребность в решении, что способствует удержанию пользователей и стимулирует повторные взаимодействия с вашим продуктом или услугой.\n",
    "\n",
    "Пример идеальных характеристик проблем для стартапа:\n",
    "Миллионы пользователей сталкиваются с этой проблемой.\n",
    "Рынок с проблемой растет на 20% ежегодно.\n",
    "Проблему пытаются решить сразу.\n",
    "Решение проблемы потребует больших затрат, что открывает возможности для высокой оплаты.\n",
    "Законодательство изменилось, создавая дополнительные проблемы для решения.\n",
    "Проблему необходимо решать несколько раз в день.\n",
    "'''"
   ]
  },
  {
   "cell_type": "markdown",
   "id": "c09bf09c-526e-46f4-b05f-e85e70bbbab8",
   "metadata": {},
   "source": [
    "И инструкцию, в которой просим чатгпт собрать необходимое кол-во информации, чтобы выяснить какова проблема  \n",
    "в соответствии с деталями выше.\n",
    "**Здесь нужно модифицировать инструкцию**:  \n",
    "* Мы добавляем, что на выходе хотим получить содержание одного слайда.\n",
    "* В этом слайде нужно описать ключевые моменты проблемы\n",
    "* В создании содержания слайда мы в первую очередь опираемся на то, что говорит стартапер\n",
    "* Модель, опираясь на слова стартапера, должна постараться написать эти ключевые моменты заинтересовать инвестора\n",
    "* Характеристики проблемы, который интересны инвестору находятся в `details`\n",
    "* Если по мнению модели "
   ]
  },
  {
   "cell_type": "markdown",
   "id": "cf299a37-58ef-4279-9007-cb5309b2cb6a",
   "metadata": {},
   "source": [
    "Сначала модели нужно выяснить, достаточно ли стартапер предоставил информации, чтобы выяснить обладает ли их проблема характеристиками проблемы, привелекательной для клиента"
   ]
  },
  {
   "cell_type": "markdown",
   "id": "e7dc4939-72fa-46eb-9d72-5872bb9e3556",
   "metadata": {},
   "source": [
    "В инструкции мы просим модель переписать текст стартапера так, чтобы выделить те характеристики, которые интересны инвесторам."
   ]
  },
  {
   "cell_type": "code",
   "execution_count": null,
   "id": "357d9598-6665-410f-b025-e34a4745eb17",
   "metadata": {},
   "outputs": [],
   "source": [
    "instruction = '''\n",
    "Задачи:\n",
    "Постарайся расписать проблему, опираясь на текст стартапера, пройдясь по всем пунктам хорошей проблемы, которая заинтересовывает инвесторов.\n",
    "Сформируй содержание слайда с акцентом на те характеристики, которые являются наиболее привлекательными для инвестора.\n",
    "'''"
   ]
  },
  {
   "cell_type": "code",
   "execution_count": null,
   "id": "06427b27-4799-4c2f-a987-85c590c0b386",
   "metadata": {},
   "outputs": [],
   "source": [
    "text_entry = '''\n",
    "Текст стартапера:\n",
    "{text}\n",
    "'''"
   ]
  },
  {
   "cell_type": "code",
   "execution_count": null,
   "id": "5ff7c398-99fb-4f2e-9824-894fb56c46be",
   "metadata": {},
   "outputs": [],
   "source": [
    "conversation_prompt = role+details+instruction+text_entry"
   ]
  },
  {
   "cell_type": "code",
   "execution_count": null,
   "id": "7d78dff3-0871-4643-81c1-9898e8c617d3",
   "metadata": {},
   "outputs": [],
   "source": [
    "# print(conversation_prompt)"
   ]
  },
  {
   "cell_type": "markdown",
   "id": "80dc8453-55a1-4891-ae08-c2b3985b4d7d",
   "metadata": {},
   "source": [
    "Создаем шаблон."
   ]
  },
  {
   "cell_type": "code",
   "execution_count": null,
   "id": "3f24a609-7e2b-41d7-aed5-587c0cd5b5ce",
   "metadata": {},
   "outputs": [],
   "source": [
    "template = ChatPromptTemplate.from_template(conversation_prompt)"
   ]
  },
  {
   "cell_type": "markdown",
   "id": "d2ac4998-096d-493e-a22c-e69efe478220",
   "metadata": {},
   "source": [
    "Создаем саму цепь, к которой будем обращаться в разговоре."
   ]
  },
  {
   "cell_type": "code",
   "execution_count": null,
   "id": "c66f22db-7a7d-4454-a7b3-87c018f1ec54",
   "metadata": {},
   "outputs": [],
   "source": [
    "# streaming_llm = ChatOpenAI(  \n",
    "#  streaming=True,  \n",
    "#  # callbacks=[StreamingStdOutCallbackHandler()],  \n",
    "#  temperature=0,  \n",
    "#  # openai_api_key=openai_api_key,\n",
    "#  model='gpt-3.5-turbo-16k',\n",
    "# );\n",
    "# conversation = ConversationChain(\n",
    "#     prompt=template,\n",
    "#     llm=streaming_llm, \n",
    "#     memory=memory,\n",
    "#     verbose=True\n",
    "# )"
   ]
  },
  {
   "cell_type": "code",
   "execution_count": null,
   "id": "466cb3e2-7418-4dc6-ac0c-7b86de2ca57a",
   "metadata": {},
   "outputs": [],
   "source": [
    "problem_chain = LLMChain(\n",
    "    prompt=template,\n",
    "    llm=llm, \n",
    "    verbose=True\n",
    ")"
   ]
  },
  {
   "cell_type": "markdown",
   "id": "ee55b05e-6186-4857-8eb7-e74cc1e7f7ed",
   "metadata": {},
   "source": [
    "Пример описания проблемы."
   ]
  },
  {
   "cell_type": "code",
   "execution_count": null,
   "id": "fea43591-870b-41c9-a33b-5b8cc706be7f",
   "metadata": {},
   "outputs": [],
   "source": [
    "test_description = '''У нас есть телеграм-бот, через который можно откликаться на разовые поручения или заявки на временную работу студенты регистрируются там и находятся в ожидании приходящих заявок мы заранее проговариваем с муниципальным предприятием условия гос.закупки на право заключение договора с обязательством предоставления в  течение 12 часов заявленного количества сотрудников, на некоторое количество раз в сезон в день ИКС уходят оповещения по нашей базе самозанятых о возможности выйти на двухдневную работу.\n",
    "Для того, чтобы студент имел нужные знания, существуют стажировки. На обучение выпускника тратят определенную сумму денег и не факт, что он останется работать. Мы предлагаем, чтобы студент шел к нам, мы его обучали(давали узконаправленные знания для быстрого трудоустройства), после чего отправляем его на работу на определенное время, где он получает опыт. Спустя 3 месяца мы имем хорошего начального спкциалиста,  который спокойно сможет устроиться на работу. С каждой оплаты работу студента мы забираем 10 процентов себе. Мы планируем пойти дальше и получить лицензию на образовательную деятельность, чтобы иметь возможность разрабатывать свои обучающие программы, проработанные с экспертами предприятий (металлургическими комбинатами, операторами связи, заводами, инженерными компаниями), благодаря которым молодой специалист будет проходить \"курс молодого бойца\" исходя из реальных потребностей производственного сектора. Образование будет платным и укладывается в рамки ожиданий опрошенных нами респондентов.\n",
    "\n",
    "Наши преимущества - мы сами студенты среднего профессионального учреждения, мы внутри проблемы и мы целевая аудитория.''' "
   ]
  },
  {
   "cell_type": "code",
   "execution_count": null,
   "id": "9e74be2f-d011-4606-96cc-aef1ba95eb73",
   "metadata": {},
   "outputs": [],
   "source": [
    "test_answer = problem_chain(test_description)"
   ]
  },
  {
   "cell_type": "code",
   "execution_count": null,
   "id": "436937ed-8770-4d61-93a8-2ab01d7ff822",
   "metadata": {},
   "outputs": [],
   "source": [
    "print(test_answer['text'])"
   ]
  },
  {
   "cell_type": "markdown",
   "id": "c7be0442-571a-4667-bc60-27a20217c1e5",
   "metadata": {},
   "source": [
    "Создадим корректирующую стиль цепь."
   ]
  },
  {
   "cell_type": "markdown",
   "id": "184c5f85-76b2-4a7e-ba5d-867299b72ecf",
   "metadata": {},
   "source": [
    "Промпт описывающий стиль."
   ]
  },
  {
   "cell_type": "code",
   "execution_count": null,
   "id": "906a8d7a-2571-4bc7-9088-81607d2d5c2a",
   "metadata": {},
   "outputs": [],
   "source": [
    "style_description = '''\n",
    "СТИЛЬ:\n",
    "```\n",
    "Here are the detailed instructions or style of speech for each of the mentioned topics:\n",
    "\n",
    "Simplicity and Clarity:\n",
    "\n",
    "Use straightforward language that anyone can understand, avoiding complex terminology or convoluted explanations.\n",
    "Present your idea in a way that leaves no room for interpretation or confusion. Make it crystal clear.\n",
    "Focus on making your idea easily digestible, ensuring that even someone unfamiliar with your field can comprehend it.\n",
    "Eliminate any vagueness or ambiguity in your description. Be explicit about what your startup does and the problem it solves.\n",
    "Stay away from using jargon, buzzwords, or language that might not resonate with a broader audience.\n",
    "Conciseness:\n",
    "\n",
    "Condense your description to the most essential points. Trim away any extraneous details.\n",
    "Craft a succinct and powerful statement that encapsulates the core of your startup's value proposition.\n",
    "Prioritize brevity while still conveying the crucial aspects of your idea. Every word should serve a purpose.\n",
    "Avoiding Padding:\n",
    "\n",
    "Remove any unnecessary fluff or filler content from your pitch or description.\n",
    "Stay focused on the key elements that make your startup unique and valuable. Discard information that doesn't contribute to this understanding.\n",
    "Resist the temptation to add defensive explanations or preemptive responses to potential concerns. Let your idea stand on its merits.\n",
    "\"X for Y\" Formula:\n",
    "\n",
    "Choose a well-known and successful entity (X) that shares similarities with your startup's concept.\n",
    "Clearly state the comparison: \"We are the X for Y,\" indicating the familiar model you're adapting.\n",
    "Highlight how Y, your target market or segment, can benefit from the attributes of X's model.\n",
    "Ensure that the connection between X and Y is easily understandable, even to someone unfamiliar with either.\n",
    "Empathy for Investors:\n",
    "\n",
    "Put yourself in the shoes of investors who have limited time to review many ideas.\n",
    "Craft your pitch and descriptions in a way that optimizes their efficiency and makes them enjoyable to read.\n",
    "Present your startup idea in a format that quickly grabs their attention and conveys its unique value.\n",
    "Conversational and Understandable:\n",
    "\n",
    "Imagine explaining your idea to someone who is not well-versed in your industry or field.\n",
    "Strive for a conversational tone, as if you were chatting with a friend about your startup.\n",
    "Use language that resonates with a general audience, avoiding technical jargon or complex terminology.\n",
    "Make your idea easy to remember and repeat. Aim for a description that naturally lends itself to word-of-mouth sharing.\n",
    "Empathy for Users and Customers:\n",
    "\n",
    "Prioritize the needs of your potential users and customers by making your idea accessible and comprehensible to them.\n",
    "Frame your pitch in a way that resonates with a broad audience, not just those deeply involved in your industry.\n",
    "Imagine someone who has never encountered your concept before and ensure that your description helps them grasp its significance.\n",
    "In summary, the style of speech involves using simple, clear, and concise language while avoiding unnecessary padding or jargon. Incorporate empathy for both investors and potential users by crafting descriptions that are easy to understand, relatable, and compelling. Utilize the \"X for Y\" formula effectively to highlight your startup's value proposition.\n",
    "```\n",
    "'''"
   ]
  },
  {
   "cell_type": "markdown",
   "id": "b683f185-810c-4347-ab83-4ca5d0db6beb",
   "metadata": {},
   "source": [
    "Промпт с инструкций о том, чтобы переформулировать входящий текст в соответствии со стилем."
   ]
  },
  {
   "cell_type": "code",
   "execution_count": null,
   "id": "51b82f45-ac97-47c1-8376-3993a01df76e",
   "metadata": {},
   "outputs": [],
   "source": [
    "style_instruction = '''\n",
    "ИНСТРУКЦИЯ:\n",
    "Примени СТИЛЬ к ТЕКСТУ.\n",
    "\n",
    "ТЕКСТ:\n",
    "{text}\n",
    "'''"
   ]
  },
  {
   "cell_type": "code",
   "execution_count": null,
   "id": "da6df2db-c4bd-47c4-8ea8-9dc58186d3a6",
   "metadata": {},
   "outputs": [],
   "source": [
    "style_prompt = style_description + style_instruction"
   ]
  },
  {
   "cell_type": "code",
   "execution_count": null,
   "id": "4ef6428f-f0ad-4a5c-9197-343a32588132",
   "metadata": {},
   "outputs": [],
   "source": [
    "style_template = ChatPromptTemplate.from_template(style_prompt)"
   ]
  },
  {
   "cell_type": "code",
   "execution_count": null,
   "id": "120f12a1-ecdc-406f-aa34-2289eda81f6b",
   "metadata": {},
   "outputs": [],
   "source": [
    "style_chain = LLMChain(\n",
    "    prompt=style_template,\n",
    "    llm=llm, \n",
    "    verbose=True\n",
    ")"
   ]
  },
  {
   "cell_type": "code",
   "execution_count": null,
   "id": "198d950c-dea4-4f96-908f-0fb7a516caba",
   "metadata": {},
   "outputs": [],
   "source": [
    "test_style_answer = style_chain(test_answer['text'])"
   ]
  },
  {
   "cell_type": "code",
   "execution_count": null,
   "id": "e2b737e2-5654-457b-96ac-7cd976581594",
   "metadata": {},
   "outputs": [],
   "source": [
    "print(test_style_answer['text'])"
   ]
  },
  {
   "cell_type": "markdown",
   "id": "2f807251-1e58-4376-978d-b8648b3c2793",
   "metadata": {},
   "source": [
    "### Описание и ценностное предложение стартапа"
   ]
  },
  {
   "cell_type": "markdown",
   "id": "d6f6707a-4463-44fe-846d-1a276b0480b2",
   "metadata": {},
   "source": [
    "Никита"
   ]
  },
  {
   "cell_type": "markdown",
   "id": "2ecf9264-d985-4263-a6fa-abd36abd2e88",
   "metadata": {},
   "source": [
    "### Решение"
   ]
  },
  {
   "cell_type": "markdown",
   "id": "fd45dffb-5e8a-4570-90d5-f0e0a6ee0955",
   "metadata": {},
   "source": [
    "Промпт про unfair advantages by Y Comb, а именно супер продукт.  \n",
    "Просим модель переформатировать текст для слайда и сделать акцент является ли продукт супер продуктом."
   ]
  },
  {
   "cell_type": "code",
   "execution_count": null,
   "id": "d9370f40-a5d5-4d38-a8e9-7c09854258e3",
   "metadata": {},
   "outputs": [],
   "source": [
    "super_product_description = '''\n",
    "Супер Продукт:   \n",
    "Очевидное преимущество - продукт, который значительно лучше конкурентов. Продукт должен быть на порядок (в 10 раз) более привлекательным и эффективным.\n",
    "'''"
   ]
  },
  {
   "cell_type": "code",
   "execution_count": null,
   "id": "10df9791-ac37-4d7e-a30e-9850a5216f56",
   "metadata": {},
   "outputs": [],
   "source": [
    "solution_instruction = '''\n",
    "ЗАГЛУШКА\n",
    "{text}\n",
    "'''"
   ]
  },
  {
   "cell_type": "code",
   "execution_count": null,
   "id": "2fb3b529-9fa2-484e-abe7-5991c27904f2",
   "metadata": {},
   "outputs": [],
   "source": [
    "solution_prompt = super_product_description + solution_instruction"
   ]
  },
  {
   "cell_type": "code",
   "execution_count": null,
   "id": "429c7e2b-ea0f-4d21-b553-64dc3f6656d5",
   "metadata": {},
   "outputs": [],
   "source": [
    "solution_template = ChatPromptTemplate.from_template(solution_prompt)"
   ]
  },
  {
   "cell_type": "code",
   "execution_count": null,
   "id": "9f9bec04-bf13-424b-949b-5eb170f0e35a",
   "metadata": {},
   "outputs": [],
   "source": [
    "solution_chain = LLMChain(\n",
    "    prompt=solution_template,\n",
    "    llm=llm, \n",
    "    verbose=True\n",
    ")"
   ]
  },
  {
   "cell_type": "code",
   "execution_count": null,
   "id": "013f793d-62e9-4970-80c0-9bf8376f040f",
   "metadata": {},
   "outputs": [],
   "source": [
    "test_solution_description = '''\n",
    "'''"
   ]
  },
  {
   "cell_type": "code",
   "execution_count": null,
   "id": "d54cedb5-ff2f-490b-9e18-c22d95f7785e",
   "metadata": {},
   "outputs": [],
   "source": [
    "test_solution_answer = solution_chain(test_solution_description)"
   ]
  },
  {
   "cell_type": "code",
   "execution_count": null,
   "id": "716787c1-c7cb-4c97-a349-d7589c1bcf59",
   "metadata": {},
   "outputs": [],
   "source": [
    "print(test_solution_answer['test'])"
   ]
  },
  {
   "cell_type": "code",
   "execution_count": null,
   "id": "c14d313e-9dac-4b49-9386-14b234e4a4de",
   "metadata": {},
   "outputs": [],
   "source": [
    "style_description = '''\n",
    "СТИЛЬ:\n",
    "```\n",
    "Here are the detailed instructions or style of speech for each of the mentioned topics:\n",
    "\n",
    "Simplicity and Clarity:\n",
    "\n",
    "Use straightforward language that anyone can understand, avoiding complex terminology or convoluted explanations.\n",
    "Present your idea in a way that leaves no room for interpretation or confusion. Make it crystal clear.\n",
    "Focus on making your idea easily digestible, ensuring that even someone unfamiliar with your field can comprehend it.\n",
    "Eliminate any vagueness or ambiguity in your description. Be explicit about what your startup does and the problem it solves.\n",
    "Stay away from using jargon, buzzwords, or language that might not resonate with a broader audience.\n",
    "Conciseness:\n",
    "\n",
    "Condense your description to the most essential points. Trim away any extraneous details.\n",
    "Craft a succinct and powerful statement that encapsulates the core of your startup's value proposition.\n",
    "Prioritize brevity while still conveying the crucial aspects of your idea. Every word should serve a purpose.\n",
    "Avoiding Padding:\n",
    "\n",
    "Remove any unnecessary fluff or filler content from your pitch or description.\n",
    "Stay focused on the key elements that make your startup unique and valuable. Discard information that doesn't contribute to this understanding.\n",
    "Resist the temptation to add defensive explanations or preemptive responses to potential concerns. Let your idea stand on its merits.\n",
    "\"X for Y\" Formula:\n",
    "\n",
    "Choose a well-known and successful entity (X) that shares similarities with your startup's concept.\n",
    "Clearly state the comparison: \"We are the X for Y,\" indicating the familiar model you're adapting.\n",
    "Highlight how Y, your target market or segment, can benefit from the attributes of X's model.\n",
    "Ensure that the connection between X and Y is easily understandable, even to someone unfamiliar with either.\n",
    "Empathy for Investors:\n",
    "\n",
    "Put yourself in the shoes of investors who have limited time to review many ideas.\n",
    "Craft your pitch and descriptions in a way that optimizes their efficiency and makes them enjoyable to read.\n",
    "Present your startup idea in a format that quickly grabs their attention and conveys its unique value.\n",
    "Conversational and Understandable:\n",
    "\n",
    "Imagine explaining your idea to someone who is not well-versed in your industry or field.\n",
    "Strive for a conversational tone, as if you were chatting with a friend about your startup.\n",
    "Use language that resonates with a general audience, avoiding technical jargon or complex terminology.\n",
    "Make your idea easy to remember and repeat. Aim for a description that naturally lends itself to word-of-mouth sharing.\n",
    "Empathy for Users and Customers:\n",
    "\n",
    "Prioritize the needs of your potential users and customers by making your idea accessible and comprehensible to them.\n",
    "Frame your pitch in a way that resonates with a broad audience, not just those deeply involved in your industry.\n",
    "Imagine someone who has never encountered your concept before and ensure that your description helps them grasp its significance.\n",
    "In summary, the style of speech involves using simple, clear, and concise language while avoiding unnecessary padding or jargon. Incorporate empathy for both investors and potential users by crafting descriptions that are easy to understand, relatable, and compelling. Utilize the \"X for Y\" formula effectively to highlight your startup's value proposition.\n",
    "```\n",
    "'''"
   ]
  },
  {
   "cell_type": "code",
   "execution_count": null,
   "id": "b1c5a5e3-6986-4016-a7ea-9e0c6d250edd",
   "metadata": {},
   "outputs": [],
   "source": [
    "style_instruction = '''\n",
    "ИНСТРУКЦИЯ:\n",
    "Примени СТИЛЬ к ТЕКСТУ.\n",
    "\n",
    "ТЕКСТ:\n",
    "{text}\n",
    "'''"
   ]
  },
  {
   "cell_type": "code",
   "execution_count": null,
   "id": "b5657873-9a01-4ebe-82ab-fef8d351ef3a",
   "metadata": {},
   "outputs": [],
   "source": [
    "style_prompt = style_description + style_instruction\n"
   ]
  },
  {
   "cell_type": "code",
   "execution_count": null,
   "id": "b86be8ec-bf3b-4f6c-86be-bb61fe890eb5",
   "metadata": {},
   "outputs": [],
   "source": [
    "style_template = ChatPromptTemplate.from_template(style_prompt)"
   ]
  },
  {
   "cell_type": "code",
   "execution_count": null,
   "id": "ef3992ac-4337-42fa-8192-b4cc0996202c",
   "metadata": {},
   "outputs": [],
   "source": [
    "style_chain = LLMChain(\n",
    "    prompt=style_template,\n",
    "    llm=llm, \n",
    "    verbose=True\n",
    ")"
   ]
  },
  {
   "cell_type": "code",
   "execution_count": null,
   "id": "c34dc6a1-e787-43f8-8379-4b3ad8cc0f1f",
   "metadata": {},
   "outputs": [],
   "source": [
    "test_solution_style_answer = style_chain(test_solution_answer['test'])"
   ]
  },
  {
   "cell_type": "markdown",
   "id": "a2ba1a4f-b9b7-4a20-a16e-d0c977c82b51",
   "metadata": {},
   "source": [
    "### Рынок"
   ]
  },
  {
   "cell_type": "markdown",
   "id": "cd3171e6-3a07-4c4c-a1b0-f6f441cfb965",
   "metadata": {},
   "source": [
    "Тут пробовали сделать WebResearchRetrival для поиска первичной инфы для анализа TAM, SAM, SOM.  \n",
    "\n",
    "Не заводится с DuckDuckGo, а гугл апи денег стоит."
   ]
  },
  {
   "cell_type": "code",
   "execution_count": null,
   "id": "9e2cc5b7-77b9-4c13-bd0c-3c82ba852e0f",
   "metadata": {
    "scrolled": true
   },
   "outputs": [],
   "source": [
    "# import os  \n",
    "# from langchain.vectorstores import Chroma  \n",
    "# from langchain.embeddings import OpenAIEmbeddings  \n",
    "# from langchain.chat_models.openai import ChatOpenAI  \n",
    "# # from langchain.utilities import GoogleSearchAPIWrapper  \n",
    "# from langchain.utilities import DuckDuckGoSearchAPIWrapper\n",
    "# from langchain.retrievers.web_research import WebResearchRetriever  \n",
    "\n",
    "# # Vectorstore  \n",
    "# vectorstore = Chroma(embedding_function=OpenAIEmbeddings(),persist_directory=\"./chroma_db_oai\")  \n",
    "  \n",
    "# # LLM  \n",
    "# llm = ChatOpenAI(temperature=0)  \n",
    "  \n",
    "# # Search   \n",
    "# search = DuckDuckGoSearchAPIWrapper()  \n",
    "\n",
    "# # Initialize  \n",
    "# web_research_retriever = WebResearchRetriever.from_llm(  \n",
    "#  vectorstore=vectorstore,  \n",
    "#  llm=llm,   \n",
    "#  search=search,   \n",
    "# )  "
   ]
  },
  {
   "cell_type": "markdown",
   "id": "967cde15-675a-427c-9ca5-2ffe0776e633",
   "metadata": {},
   "source": [
    "Попробуем сделать агента."
   ]
  },
  {
   "cell_type": "markdown",
   "id": "1a8996d5-e718-4e6c-b682-c4f85962747c",
   "metadata": {},
   "source": [
    "**OpenAIFunctionsAgent()** - works better."
   ]
  },
  {
   "cell_type": "code",
   "execution_count": 6,
   "id": "7ee8e5cf-4034-45c4-bd0f-b538a319b285",
   "metadata": {},
   "outputs": [],
   "source": [
    "# tools = [DuckDuckGoSearchRun()]\n",
    "\n",
    "# system_message = SystemMessage(content=\"You are very powerful assistant, that creates a TOM, SAM, SOM analysis.\")\n",
    "# prompt = OpenAIFunctionsAgent.create_prompt(system_message=system_message)\n",
    "\n",
    "# agent = OpenAIFunctionsAgent(llm=llm, tools=tools, prompt=prompt)\n",
    "\n",
    "# agent_executor = AgentExecutor(agent=agent, tools=tools, verbose=True)\n",
    "\n",
    "# # agent_executor.run(\"Create a TAM, SAM, SOM analysis for a bicycle shop in russia exclusively.\")\n"
   ]
  },
  {
   "cell_type": "markdown",
   "id": "bd744413-d3c9-416c-9af2-f9529a1f9dca",
   "metadata": {},
   "source": [
    "**AgentType.CHAT_ZERO_SHOT_REACT_DESCRIPTION**"
   ]
  },
  {
   "cell_type": "code",
   "execution_count": null,
   "id": "20cd2d23-2de3-4824-9078-3e65e47be5e5",
   "metadata": {
    "scrolled": true
   },
   "outputs": [],
   "source": [
    "# tools = [DuckDuckGoSearchRun()]\n",
    "# agent = initialize_agent(\n",
    "#     tools, llm, agent=AgentType.CHAT_ZERO_SHOT_REACT_DESCRIPTION, verbose=True\n",
    "# )\n",
    "# agent.run(\"Create a TAM, SAM, SOM analysis for a bicycle shop in russia exclusively.\")\n"
   ]
  },
  {
   "cell_type": "markdown",
   "id": "2b3d8932-bb38-4095-b113-0b866010b2d8",
   "metadata": {},
   "source": [
    "План работы по слайду с рынком.\n",
    "1. Дать стартаперу контекст о том, что такое TAM, SAM, SOM анализ.\n",
    "2. Чтобы облегчить задачу, нужно найти информацию о TAM по сфере проблемы стартапера в деньгах.\n",
    "3. Чтобы найти SAM минимум нужно воспользоваться формулой SAM = TAM * .1\n",
    "4. А расчет SOM это задача стартапера, значит нужно дать контекст и помочь стартаперу рассчитать.\n",
    "5. После сбора всей инфы, нужно из этого сделать слайд\n",
    "6. И причесать в соответствии со стилем YComb"
   ]
  },
  {
   "cell_type": "markdown",
   "id": "4f8726b2-ccb9-4678-ba0b-7df5f5015405",
   "metadata": {},
   "source": [
    "Чтобы сделать какой-то анализ нужно описание бизнеса и на какой рынок он рассчитывает (мировой или национальный).\n",
    "\n",
    "* Описание бизнеса и географический тип рынка\n",
    "  \n",
    "По этому описанию находим TOM. С помощью агентов.\n",
    "\n",
    "* Нужен агент, который находит в интернете TOM\n",
    "  \n",
    "Теперь нужно получить SAM, который мы получаем просто по формуле\n",
    "\n",
    "* SAM = TOM * .1\n",
    "* Или делаем агента, который пытается определить SAM с учетом TOM и специфика бизнеса\n",
    "  \n",
    "Теперь нужно получить SOM. Это задача стартапера, поэтому наша задача облегчить этот процесс. Каким образом?  \n",
    "\n",
    "* Мы генерируем инструкцию о том, как сделать SOM."
   ]
  },
  {
   "cell_type": "markdown",
   "id": "d64c54a5-7440-482c-86ec-90b1ac400a95",
   "metadata": {},
   "source": [
    "#### Агент ищущий TOM"
   ]
  },
  {
   "cell_type": "markdown",
   "id": "295890e6-458a-4697-be56-39897a6cfef1",
   "metadata": {},
   "source": [
    "Здесь агент и саммаризатор."
   ]
  },
  {
   "cell_type": "code",
   "execution_count": 28,
   "id": "7bcd572f-9b28-42d5-8169-a61e57ebc99b",
   "metadata": {},
   "outputs": [],
   "source": [
    "tools = [DuckDuckGoSearchRun()]"
   ]
  },
  {
   "cell_type": "code",
   "execution_count": 29,
   "id": "0bbd622b-b98b-42fc-86a5-5a803d169b8e",
   "metadata": {},
   "outputs": [],
   "source": [
    "system_message = SystemMessage(content=\"You are very powerful assistant, that creates a TOM, SAM, SOM analysis.\")\n",
    "prompt = OpenAIFunctionsAgent.create_prompt(system_message=system_message)"
   ]
  },
  {
   "cell_type": "code",
   "execution_count": 30,
   "id": "3b985341-f2dc-40eb-9939-6d21004027d6",
   "metadata": {},
   "outputs": [],
   "source": [
    "agent = OpenAIFunctionsAgent(llm=llm, tools=tools, prompt=prompt)"
   ]
  },
  {
   "cell_type": "code",
   "execution_count": 31,
   "id": "aece2e63-e5e1-4252-aeb0-7be1d9990ebe",
   "metadata": {},
   "outputs": [],
   "source": [
    "agent_executor_tom = AgentExecutor(agent=agent, tools=tools, verbose=True)"
   ]
  },
  {
   "cell_type": "code",
   "execution_count": 32,
   "id": "1df70334-1d91-4c43-8516-f9601a70b401",
   "metadata": {},
   "outputs": [],
   "source": [
    "example = 'Система для бронирования офисного пространства'\n",
    "query = 'Производят катализаторы для нефтехимии'\n"
   ]
  },
  {
   "cell_type": "code",
   "execution_count": 33,
   "id": "4a9db589-ce38-4952-b0f2-e23a3f9ecf31",
   "metadata": {},
   "outputs": [
    {
     "name": "stdout",
     "output_type": "stream",
     "text": [
      "\n",
      "\n",
      "\u001b[1m> Entering new AgentExecutor chain...\u001b[0m\n",
      "\u001b[32;1m\u001b[1;3m\n",
      "Invoking: `duckduckgo_search` with `Market Research for Производят катализаторы для нефтехимии in Russia`\n",
      "\n",
      "\n",
      "\u001b[0m\u001b[36;1m\u001b[1;3m30/04/2021: Катализаторы для нефтехимии и нефтепереработки. Критическая зависимость от ... Потребности российских заводов в катализаторах гидропроцессов составляют, по разным оценкам, примерно 5-5,5 тыс. т в год. По состоянию на начало 2022 года наибольшую зависимость от импорта ... Например, катализаторы для каталитического крекинга — это микросферы диаметром около 70-90 микрометров, внешне похожие на мелкий песок. ... Где сейчас производят катализаторы для российских ... INTERFAX.RU - ООО \"Газпромнефть-КС\" проводит тендер на оказание услуг по проведению маркетингового исследования ... Его мощность составляет до 500 т в год. Завод выпускает катализаторы риформинга бензинов, изомеризации, а также катализаторы и адсорбенты для различных процессов нефтехимии.\u001b[0m\u001b[32;1m\u001b[1;3mAccording to the search results, the market research for \"Производят катализаторы для нефтехимии\" in Russia indicates that the annual demand for catalysts for hydroprocessing processes in Russian plants is estimated to be around 5,000-5,500 tons. As of the beginning of 2022, there is a significant dependence on imports for catalysts in Russia.\n",
      "\n",
      "One example of a company producing catalysts for the Russian market is \"ООО Газпромнефть-КС\" (Gazpromneft-KS). Their plant has a capacity of up to 500 tons per year and produces catalysts for reforming gasoline, isomerization, as well as catalysts and adsorbents for various petrochemical processes.\n",
      "\n",
      "Unfortunately, the search results do not provide specific information about the market size in terms of revenue or the number of clients.\u001b[0m\n",
      "\n",
      "\u001b[1m> Finished chain.\u001b[0m\n"
     ]
    }
   ],
   "source": [
    "tom_answer_1 = agent_executor_tom.run(f\"Find Market Research for a {query} in russia. And give me a number either in rubbles or in amount of clients or demand.\")"
   ]
  },
  {
   "cell_type": "code",
   "execution_count": 34,
   "id": "2775668b-401f-4bb8-bc5d-581545af5b2c",
   "metadata": {},
   "outputs": [
    {
     "name": "stdout",
     "output_type": "stream",
     "text": [
      "According to the search results, the market research for \"Производят катализаторы для нефтехимии\" in Russia indicates that the annual demand for catalysts for hydroprocessing processes in Russian plants is estimated to be around 5,000-5,500 tons. As of the beginning of 2022, there is a significant dependence on imports for catalysts in Russia.\n",
      "\n",
      "One example of a company producing catalysts for the Russian market is \"ООО Газпромнефть-КС\" (Gazpromneft-KS). Their plant has a capacity of up to 500 tons per year and produces catalysts for reforming gasoline, isomerization, as well as catalysts and adsorbents for various petrochemical processes.\n",
      "\n",
      "Unfortunately, the search results do not provide specific information about the market size in terms of revenue or the number of clients.\n"
     ]
    }
   ],
   "source": [
    "print(tom_answer_1)"
   ]
  },
  {
   "cell_type": "markdown",
   "id": "56e6c4eb-0f22-4d63-9c1b-4a7a4a6ca43e",
   "metadata": {},
   "source": [
    "Этот агент, кажется, работает лучше всего.  \n",
    "Для него сделаем еще один запрос, который вытаскивает исключительно информацию об объеме рынка, кол-во клиентов или объеме спроса."
   ]
  },
  {
   "cell_type": "code",
   "execution_count": 35,
   "id": "627cac64-a8aa-4d8a-8192-5eaac4073dd9",
   "metadata": {},
   "outputs": [],
   "source": [
    "market_tom_summary_prompt = '''Extract only\n",
    "market size:\n",
    "number of clients:\n",
    "demand: \n",
    "\n",
    "If there is no info write: na\n",
    "\n",
    "Text to extract from:\n",
    "{text}\n",
    "'''"
   ]
  },
  {
   "cell_type": "code",
   "execution_count": 36,
   "id": "51452087-9025-47ce-a139-6a2a5e8b12e8",
   "metadata": {},
   "outputs": [],
   "source": [
    "market_tom_summary_template = ChatPromptTemplate.from_template(market_tom_summary_prompt)"
   ]
  },
  {
   "cell_type": "code",
   "execution_count": 37,
   "id": "45ef8128-25cc-4fcc-bd1b-c7a27b6d043c",
   "metadata": {},
   "outputs": [],
   "source": [
    "market_tom_summary_chain = LLMChain(\n",
    "    prompt=market_tom_summary_template,\n",
    "    llm=llm, \n",
    "    verbose=True\n",
    ")"
   ]
  },
  {
   "cell_type": "code",
   "execution_count": 39,
   "id": "aae199cf-d03a-43fc-a0f5-ef6a86b56ace",
   "metadata": {},
   "outputs": [
    {
     "name": "stdout",
     "output_type": "stream",
     "text": [
      "\n",
      "\n",
      "\u001b[1m> Entering new LLMChain chain...\u001b[0m\n",
      "Prompt after formatting:\n",
      "\u001b[32;1m\u001b[1;3mHuman: Extract only\n",
      "market size:\n",
      "number of clients:\n",
      "demand: \n",
      "\n",
      "If there is no info write: na\n",
      "\n",
      "Text to extract from:\n",
      "According to the search results, the market research for \"Производят катализаторы для нефтехимии\" in Russia indicates that the annual demand for catalysts for hydroprocessing processes in Russian plants is estimated to be around 5,000-5,500 tons. As of the beginning of 2022, there is a significant dependence on imports for catalysts in Russia.\n",
      "\n",
      "One example of a company producing catalysts for the Russian market is \"ООО Газпромнефть-КС\" (Gazpromneft-KS). Their plant has a capacity of up to 500 tons per year and produces catalysts for reforming gasoline, isomerization, as well as catalysts and adsorbents for various petrochemical processes.\n",
      "\n",
      "Unfortunately, the search results do not provide specific information about the market size in terms of revenue or the number of clients.\n",
      "\u001b[0m\n",
      "\n",
      "\u001b[1m> Finished chain.\u001b[0m\n"
     ]
    }
   ],
   "source": [
    "tom_summary = market_tom_summary_chain(tom_answer_1)"
   ]
  },
  {
   "cell_type": "code",
   "execution_count": 40,
   "id": "8b479e43-5ead-47d5-a71f-664f3b0bfd7c",
   "metadata": {},
   "outputs": [
    {
     "name": "stdout",
     "output_type": "stream",
     "text": [
      "market size: na\n",
      "number of clients: na\n",
      "demand: 5,000-5,500 tons\n"
     ]
    }
   ],
   "source": [
    "print(tom_summary['text'])"
   ]
  },
  {
   "cell_type": "markdown",
   "id": "1c9ca770-fb66-45e0-9db5-77e0278d64f5",
   "metadata": {},
   "source": [
    "#### SAM"
   ]
  },
  {
   "cell_type": "markdown",
   "id": "d97ae41e-a178-4981-8494-15dfb48d9c30",
   "metadata": {},
   "source": [
    "##### Агент определяющий SAM сходу"
   ]
  },
  {
   "cell_type": "code",
   "execution_count": 20,
   "id": "8e832efb-40c7-40a9-8e00-6849705ff7e9",
   "metadata": {},
   "outputs": [],
   "source": [
    "tools = [DuckDuckGoSearchRun()]"
   ]
  },
  {
   "cell_type": "code",
   "execution_count": 21,
   "id": "b91afe4b-678d-42b8-bec6-4872203fa842",
   "metadata": {},
   "outputs": [],
   "source": [
    "system_message = SystemMessage(content=\"You are very powerful assistant, that creates a TOM, SAM, SOM analysis.\")\n",
    "prompt = OpenAIFunctionsAgent.create_prompt(system_message=system_message)"
   ]
  },
  {
   "cell_type": "code",
   "execution_count": 22,
   "id": "2c4ddfd8-991f-49cb-8a5c-f275035d9b93",
   "metadata": {},
   "outputs": [],
   "source": [
    "agent = OpenAIFunctionsAgent(llm=llm, tools=tools, prompt=prompt)"
   ]
  },
  {
   "cell_type": "code",
   "execution_count": 23,
   "id": "4782de50-91a8-43c1-ace5-fa2f8c813ae3",
   "metadata": {},
   "outputs": [],
   "source": [
    "agent_executor_sam = AgentExecutor(agent=agent, tools=tools, verbose=True)"
   ]
  },
  {
   "cell_type": "code",
   "execution_count": 46,
   "id": "5a781372-aff6-4428-b201-f81567461518",
   "metadata": {},
   "outputs": [],
   "source": [
    "example = 'Система для бронирования офисного пространства'\n",
    "query = 'Производят катализаторы для нефтехимии'\n"
   ]
  },
  {
   "cell_type": "code",
   "execution_count": 47,
   "id": "332936fe-a068-4607-b32c-9ce2218348ea",
   "metadata": {},
   "outputs": [],
   "source": [
    "description = '''\"Компания ООО «РеоКат» работает в области сервиса катализаторов нефтепереработки и систем аминовой очистки газов. Компания специализируется на релизации проектов связанных с:\n",
    "1. Мобильными комплексами высокоэффективной регенерации наноструктурированных катализаторов гидропроцессов нефтепереработки, включающий блок очистки отходящих газов.\n",
    "2. Сервисе катализаторных систем: компания  оказывает услуги по выгрузке и загрузке катализаторов и адсорбентов, сульфидированию катализаторов гидроочистки.\n",
    "3. Компания занимается очисткой аминовых растворов от механических примесей и термостабильных солей.Цеолит представляет собой гранулы, длиной 3-6 мм и диаметром 1-2 мм. При эксплуатации цеолита на установках очистки или осушки в течение нескольких лет на нем накапливаются сера и углерод, которые не могут быть удалены при регенерации в процессе и снижают его емкость. Цеолит выгружают из адсорберов и заменяют на новый. Отработанный цеолит направляется на утилизацию. Срок службы цеолита — от 6 месяцев до 4 лет.\"\n",
    "'''"
   ]
  },
  {
   "cell_type": "code",
   "execution_count": 48,
   "id": "2801a7cc-303b-4161-a99a-8e5ad4254cc1",
   "metadata": {},
   "outputs": [],
   "source": [
    "# prompt = f'''Company description: {description}\n",
    "\n",
    "# Using this company description and this TOM info:\n",
    "# {tom_answer_1}\n",
    "# {tom_summary['text']}\n",
    "\n",
    "# Estimate a percent of market or demand or clients that this company is aiming at and able to apprehend.\n",
    "# Try to gather additional info about technology in this market in order to estimate the percent.\n",
    "\n",
    "# '''"
   ]
  },
  {
   "cell_type": "code",
   "execution_count": 55,
   "id": "65231760-af88-4e02-b9f1-4559953bbaee",
   "metadata": {},
   "outputs": [],
   "source": [
    "prompt = f'''Company description: {description}\n",
    "\n",
    "Using this company description and this TOM info:\n",
    "{tom_summary['text']}\n",
    "\n",
    "Estimate a percent of market or demand or clients that this company is aiming at and able to apprehend.\n",
    "'''"
   ]
  },
  {
   "cell_type": "code",
   "execution_count": 56,
   "id": "a9fd910e-0510-4c8b-96dc-30eed97f60d9",
   "metadata": {},
   "outputs": [
    {
     "name": "stdout",
     "output_type": "stream",
     "text": [
      "Company description: \"Компания ООО «РеоКат» работает в области сервиса катализаторов нефтепереработки и систем аминовой очистки газов. Компания специализируется на релизации проектов связанных с:\n",
      "1. Мобильными комплексами высокоэффективной регенерации наноструктурированных катализаторов гидропроцессов нефтепереработки, включающий блок очистки отходящих газов.\n",
      "2. Сервисе катализаторных систем: компания  оказывает услуги по выгрузке и загрузке катализаторов и адсорбентов, сульфидированию катализаторов гидроочистки.\n",
      "3. Компания занимается очисткой аминовых растворов от механических примесей и термостабильных солей.Цеолит представляет собой гранулы, длиной 3-6 мм и диаметром 1-2 мм. При эксплуатации цеолита на установках очистки или осушки в течение нескольких лет на нем накапливаются сера и углерод, которые не могут быть удалены при регенерации в процессе и снижают его емкость. Цеолит выгружают из адсорберов и заменяют на новый. Отработанный цеолит направляется на утилизацию. Срок службы цеолита — от 6 месяцев до 4 лет.\"\n",
      "\n",
      "\n",
      "Using this company description and this TOM info:\n",
      "market size: na\n",
      "number of clients: na\n",
      "demand: 5,000-5,500 tons\n",
      "\n",
      "Estimate a percent of market or demand or clients that this company is aiming at and able to apprehend.\n",
      "\n"
     ]
    }
   ],
   "source": [
    "print(prompt)"
   ]
  },
  {
   "cell_type": "code",
   "execution_count": 57,
   "id": "90d96e0b-587a-4fc6-abb3-54474fc14fdc",
   "metadata": {},
   "outputs": [
    {
     "name": "stdout",
     "output_type": "stream",
     "text": [
      "\n",
      "\n",
      "\u001b[1m> Entering new AgentExecutor chain...\u001b[0m\n",
      "\u001b[32;1m\u001b[1;3mBased on the provided information, it is not possible to estimate the exact percentage of the market, demand, or clients that the company \"ООО «РеоКат»\" is aiming at and able to apprehend. The market size and number of clients are not specified, and the demand is given as a range of 5,000-5,500 tons without any context.\n",
      "\n",
      "To make a more accurate estimation, additional information such as the total market size, the company's market share, and its competitive advantages would be needed. Without this information, it is not possible to determine the specific percentage of the market or demand that the company is targeting and capable of capturing.\u001b[0m\n",
      "\n",
      "\u001b[1m> Finished chain.\u001b[0m\n"
     ]
    }
   ],
   "source": [
    "sam_answer = agent_executor_tom.run(prompt)"
   ]
  },
  {
   "cell_type": "code",
   "execution_count": 45,
   "id": "321d69cf-c796-42cd-91da-f9476d48df7b",
   "metadata": {},
   "outputs": [
    {
     "name": "stdout",
     "output_type": "stream",
     "text": [
      "What would you like me to analyze?\n"
     ]
    }
   ],
   "source": [
    "print(sam_answer)"
   ]
  },
  {
   "cell_type": "markdown",
   "id": "abd90dc8-30ee-4e39-9ae3-360d406f6110",
   "metadata": {},
   "source": [
    "Агентом не удается сходу сделать SAM."
   ]
  },
  {
   "cell_type": "markdown",
   "id": "69948212-955c-42a9-aa11-8101c2547eaa",
   "metadata": {},
   "source": [
    "##### Последовательный подход"
   ]
  },
  {
   "cell_type": "markdown",
   "id": "98afa86c-48a1-473b-9c9c-307b6273d9c7",
   "metadata": {},
   "source": [
    "**Попробуем другой подход**"
   ]
  },
  {
   "cell_type": "markdown",
   "id": "5b7e3553-fdbe-42d5-bbd5-147668634ef3",
   "metadata": {},
   "source": [
    "1. Берем объем потребности в целом, который мы рассчитали в TAM.\n",
    "2. Разделяем объем потребности по типам прямой и косвенной конкуренции.\n",
    "3. Делаем допущение о доли рынка, которую мы хотим отхватить у конкурентов.\n",
    "4. Делаем допущение о том, сколько новых клиентов мы смогли бы удовлетворить, которые ранее не пользовались ни одним из способов (например, потому что они были слишком дорогими).\n",
    "5. Используя знания о количестве потребности на потребителя (получены при расчете TAM), рассчитываем количество клиентов и потребностейстей"
   ]
  },
  {
   "cell_type": "markdown",
   "id": "b9751721-6e23-4f9e-9cb7-a578439215a9",
   "metadata": {},
   "source": [
    "###### Ищем прямых и косвенных конкурентов"
   ]
  },
  {
   "cell_type": "code",
   "execution_count": 58,
   "id": "2ff468dc-3fc6-414b-9c03-628a5e3f5639",
   "metadata": {},
   "outputs": [],
   "source": [
    "# tools = [DuckDuckGoSearchRun()]\n",
    "# system_message = SystemMessage(content=\"You are very powerful assistant, that creates a TOM, SAM, SOM analysis.\")\n",
    "# prompt = OpenAIFunctionsAgent.create_prompt(system_message=system_message)\n",
    "# agent = OpenAIFunctionsAgent(llm=llm, tools=tools, prompt=prompt)\n",
    "# agent_executor_sam = AgentExecutor(agent=agent, tools=tools, verbose=True)"
   ]
  },
  {
   "cell_type": "code",
   "execution_count": 72,
   "id": "97ecb714-1353-4b15-acbb-f2f78c783b70",
   "metadata": {},
   "outputs": [],
   "source": [
    "description = '''\"Компания ООО «РеоКат» работает в области сервиса катализаторов нефтепереработки и систем аминовой очистки газов. Компания специализируется на релизации проектов связанных с:\n",
    "1. Мобильными комплексами высокоэффективной регенерации наноструктурированных катализаторов гидропроцессов нефтепереработки, включающий блок очистки отходящих газов.\n",
    "2. Сервисе катализаторных систем: компания  оказывает услуги по выгрузке и загрузке катализаторов и адсорбентов, сульфидированию катализаторов гидроочистки.\n",
    "3. Компания занимается очисткой аминовых растворов от механических примесей и термостабильных солей.Цеолит представляет собой гранулы, длиной 3-6 мм и диаметром 1-2 мм. При эксплуатации цеолита на установках очистки или осушки в течение нескольких лет на нем накапливаются сера и углерод, которые не могут быть удалены при регенерации в процессе и снижают его емкость. Цеолит выгружают из адсорберов и заменяют на новый. Отработанный цеолит направляется на утилизацию. Срок службы цеолита — от 6 месяцев до 4 лет.\"\n",
    "'''\n",
    "\n",
    "\n",
    "prompt = f'''Описание компании: {description}\n",
    "\n",
    "Найди конкурентов в интернете:\n",
    "* попробуй прямо искать конкурентов компании\n",
    "* Если нет подходящей информации, попробуй найти все компании отрасли. Информацию об отрасли возьми из описания компании\n",
    "* Найдя информацию о конкуренте, попробуй поискать конкурентов этого конкурента\n",
    "'''"
   ]
  },
  {
   "cell_type": "code",
   "execution_count": 61,
   "id": "816f89a5-f97d-4b9c-b85e-611314b5dfc4",
   "metadata": {
    "collapsed": true,
    "jupyter": {
     "outputs_hidden": true
    }
   },
   "outputs": [
    {
     "name": "stdout",
     "output_type": "stream",
     "text": [
      "\n",
      "\n",
      "\u001b[1m> Entering new AgentExecutor chain...\u001b[0m\n",
      "\u001b[32;1m\u001b[1;3m\n",
      "Invoking: `duckduckgo_search` with `{'arg1': 'конкуренты компании ООО РеоКат'}`\n",
      "\n",
      "\n",
      "\u001b[0m"
     ]
    },
    {
     "ename": "TypeError",
     "evalue": "DuckDuckGoSearchRun._run() got an unexpected keyword argument 'arg1'",
     "output_type": "error",
     "traceback": [
      "\u001b[1;31m---------------------------------------------------------------------------\u001b[0m",
      "\u001b[1;31mTypeError\u001b[0m                                 Traceback (most recent call last)",
      "Cell \u001b[1;32mIn[61], line 1\u001b[0m\n\u001b[1;32m----> 1\u001b[0m sam_answer \u001b[38;5;241m=\u001b[39m \u001b[43magent_executor_sam\u001b[49m\u001b[38;5;241;43m.\u001b[39;49m\u001b[43mrun\u001b[49m\u001b[43m(\u001b[49m\u001b[43mprompt\u001b[49m\u001b[43m)\u001b[49m\n",
      "File \u001b[1;32m~\\miniconda3\\envs\\pitch_deck_gpt\\Lib\\site-packages\\langchain\\chains\\base.py:475\u001b[0m, in \u001b[0;36mChain.run\u001b[1;34m(self, callbacks, tags, metadata, *args, **kwargs)\u001b[0m\n\u001b[0;32m    473\u001b[0m     \u001b[38;5;28;01mif\u001b[39;00m \u001b[38;5;28mlen\u001b[39m(args) \u001b[38;5;241m!=\u001b[39m \u001b[38;5;241m1\u001b[39m:\n\u001b[0;32m    474\u001b[0m         \u001b[38;5;28;01mraise\u001b[39;00m \u001b[38;5;167;01mValueError\u001b[39;00m(\u001b[38;5;124m\"\u001b[39m\u001b[38;5;124m`run` supports only one positional argument.\u001b[39m\u001b[38;5;124m\"\u001b[39m)\n\u001b[1;32m--> 475\u001b[0m     \u001b[38;5;28;01mreturn\u001b[39;00m \u001b[38;5;28;43mself\u001b[39;49m\u001b[43m(\u001b[49m\u001b[43margs\u001b[49m\u001b[43m[\u001b[49m\u001b[38;5;241;43m0\u001b[39;49m\u001b[43m]\u001b[49m\u001b[43m,\u001b[49m\u001b[43m \u001b[49m\u001b[43mcallbacks\u001b[49m\u001b[38;5;241;43m=\u001b[39;49m\u001b[43mcallbacks\u001b[49m\u001b[43m,\u001b[49m\u001b[43m \u001b[49m\u001b[43mtags\u001b[49m\u001b[38;5;241;43m=\u001b[39;49m\u001b[43mtags\u001b[49m\u001b[43m,\u001b[49m\u001b[43m \u001b[49m\u001b[43mmetadata\u001b[49m\u001b[38;5;241;43m=\u001b[39;49m\u001b[43mmetadata\u001b[49m\u001b[43m)\u001b[49m[\n\u001b[0;32m    476\u001b[0m         _output_key\n\u001b[0;32m    477\u001b[0m     ]\n\u001b[0;32m    479\u001b[0m \u001b[38;5;28;01mif\u001b[39;00m kwargs \u001b[38;5;129;01mand\u001b[39;00m \u001b[38;5;129;01mnot\u001b[39;00m args:\n\u001b[0;32m    480\u001b[0m     \u001b[38;5;28;01mreturn\u001b[39;00m \u001b[38;5;28mself\u001b[39m(kwargs, callbacks\u001b[38;5;241m=\u001b[39mcallbacks, tags\u001b[38;5;241m=\u001b[39mtags, metadata\u001b[38;5;241m=\u001b[39mmetadata)[\n\u001b[0;32m    481\u001b[0m         _output_key\n\u001b[0;32m    482\u001b[0m     ]\n",
      "File \u001b[1;32m~\\miniconda3\\envs\\pitch_deck_gpt\\Lib\\site-packages\\langchain\\chains\\base.py:282\u001b[0m, in \u001b[0;36mChain.__call__\u001b[1;34m(self, inputs, return_only_outputs, callbacks, tags, metadata, include_run_info)\u001b[0m\n\u001b[0;32m    280\u001b[0m \u001b[38;5;28;01mexcept\u001b[39;00m (\u001b[38;5;167;01mKeyboardInterrupt\u001b[39;00m, \u001b[38;5;167;01mException\u001b[39;00m) \u001b[38;5;28;01mas\u001b[39;00m e:\n\u001b[0;32m    281\u001b[0m     run_manager\u001b[38;5;241m.\u001b[39mon_chain_error(e)\n\u001b[1;32m--> 282\u001b[0m     \u001b[38;5;28;01mraise\u001b[39;00m e\n\u001b[0;32m    283\u001b[0m run_manager\u001b[38;5;241m.\u001b[39mon_chain_end(outputs)\n\u001b[0;32m    284\u001b[0m final_outputs: Dict[\u001b[38;5;28mstr\u001b[39m, Any] \u001b[38;5;241m=\u001b[39m \u001b[38;5;28mself\u001b[39m\u001b[38;5;241m.\u001b[39mprep_outputs(\n\u001b[0;32m    285\u001b[0m     inputs, outputs, return_only_outputs\n\u001b[0;32m    286\u001b[0m )\n",
      "File \u001b[1;32m~\\miniconda3\\envs\\pitch_deck_gpt\\Lib\\site-packages\\langchain\\chains\\base.py:276\u001b[0m, in \u001b[0;36mChain.__call__\u001b[1;34m(self, inputs, return_only_outputs, callbacks, tags, metadata, include_run_info)\u001b[0m\n\u001b[0;32m    270\u001b[0m run_manager \u001b[38;5;241m=\u001b[39m callback_manager\u001b[38;5;241m.\u001b[39mon_chain_start(\n\u001b[0;32m    271\u001b[0m     dumpd(\u001b[38;5;28mself\u001b[39m),\n\u001b[0;32m    272\u001b[0m     inputs,\n\u001b[0;32m    273\u001b[0m )\n\u001b[0;32m    274\u001b[0m \u001b[38;5;28;01mtry\u001b[39;00m:\n\u001b[0;32m    275\u001b[0m     outputs \u001b[38;5;241m=\u001b[39m (\n\u001b[1;32m--> 276\u001b[0m         \u001b[38;5;28;43mself\u001b[39;49m\u001b[38;5;241;43m.\u001b[39;49m\u001b[43m_call\u001b[49m\u001b[43m(\u001b[49m\u001b[43minputs\u001b[49m\u001b[43m,\u001b[49m\u001b[43m \u001b[49m\u001b[43mrun_manager\u001b[49m\u001b[38;5;241;43m=\u001b[39;49m\u001b[43mrun_manager\u001b[49m\u001b[43m)\u001b[49m\n\u001b[0;32m    277\u001b[0m         \u001b[38;5;28;01mif\u001b[39;00m new_arg_supported\n\u001b[0;32m    278\u001b[0m         \u001b[38;5;28;01melse\u001b[39;00m \u001b[38;5;28mself\u001b[39m\u001b[38;5;241m.\u001b[39m_call(inputs)\n\u001b[0;32m    279\u001b[0m     )\n\u001b[0;32m    280\u001b[0m \u001b[38;5;28;01mexcept\u001b[39;00m (\u001b[38;5;167;01mKeyboardInterrupt\u001b[39;00m, \u001b[38;5;167;01mException\u001b[39;00m) \u001b[38;5;28;01mas\u001b[39;00m e:\n\u001b[0;32m    281\u001b[0m     run_manager\u001b[38;5;241m.\u001b[39mon_chain_error(e)\n",
      "File \u001b[1;32m~\\miniconda3\\envs\\pitch_deck_gpt\\Lib\\site-packages\\langchain\\agents\\agent.py:1036\u001b[0m, in \u001b[0;36mAgentExecutor._call\u001b[1;34m(self, inputs, run_manager)\u001b[0m\n\u001b[0;32m   1034\u001b[0m \u001b[38;5;66;03m# We now enter the agent loop (until it returns something).\u001b[39;00m\n\u001b[0;32m   1035\u001b[0m \u001b[38;5;28;01mwhile\u001b[39;00m \u001b[38;5;28mself\u001b[39m\u001b[38;5;241m.\u001b[39m_should_continue(iterations, time_elapsed):\n\u001b[1;32m-> 1036\u001b[0m     next_step_output \u001b[38;5;241m=\u001b[39m \u001b[38;5;28;43mself\u001b[39;49m\u001b[38;5;241;43m.\u001b[39;49m\u001b[43m_take_next_step\u001b[49m\u001b[43m(\u001b[49m\n\u001b[0;32m   1037\u001b[0m \u001b[43m        \u001b[49m\u001b[43mname_to_tool_map\u001b[49m\u001b[43m,\u001b[49m\n\u001b[0;32m   1038\u001b[0m \u001b[43m        \u001b[49m\u001b[43mcolor_mapping\u001b[49m\u001b[43m,\u001b[49m\n\u001b[0;32m   1039\u001b[0m \u001b[43m        \u001b[49m\u001b[43minputs\u001b[49m\u001b[43m,\u001b[49m\n\u001b[0;32m   1040\u001b[0m \u001b[43m        \u001b[49m\u001b[43mintermediate_steps\u001b[49m\u001b[43m,\u001b[49m\n\u001b[0;32m   1041\u001b[0m \u001b[43m        \u001b[49m\u001b[43mrun_manager\u001b[49m\u001b[38;5;241;43m=\u001b[39;49m\u001b[43mrun_manager\u001b[49m\u001b[43m,\u001b[49m\n\u001b[0;32m   1042\u001b[0m \u001b[43m    \u001b[49m\u001b[43m)\u001b[49m\n\u001b[0;32m   1043\u001b[0m     \u001b[38;5;28;01mif\u001b[39;00m \u001b[38;5;28misinstance\u001b[39m(next_step_output, AgentFinish):\n\u001b[0;32m   1044\u001b[0m         \u001b[38;5;28;01mreturn\u001b[39;00m \u001b[38;5;28mself\u001b[39m\u001b[38;5;241m.\u001b[39m_return(\n\u001b[0;32m   1045\u001b[0m             next_step_output, intermediate_steps, run_manager\u001b[38;5;241m=\u001b[39mrun_manager\n\u001b[0;32m   1046\u001b[0m         )\n",
      "File \u001b[1;32m~\\miniconda3\\envs\\pitch_deck_gpt\\Lib\\site-packages\\langchain\\agents\\agent.py:891\u001b[0m, in \u001b[0;36mAgentExecutor._take_next_step\u001b[1;34m(self, name_to_tool_map, color_mapping, inputs, intermediate_steps, run_manager)\u001b[0m\n\u001b[0;32m    889\u001b[0m         tool_run_kwargs[\u001b[38;5;124m\"\u001b[39m\u001b[38;5;124mllm_prefix\u001b[39m\u001b[38;5;124m\"\u001b[39m] \u001b[38;5;241m=\u001b[39m \u001b[38;5;124m\"\u001b[39m\u001b[38;5;124m\"\u001b[39m\n\u001b[0;32m    890\u001b[0m     \u001b[38;5;66;03m# We then call the tool on the tool input to get an observation\u001b[39;00m\n\u001b[1;32m--> 891\u001b[0m     observation \u001b[38;5;241m=\u001b[39m \u001b[43mtool\u001b[49m\u001b[38;5;241;43m.\u001b[39;49m\u001b[43mrun\u001b[49m\u001b[43m(\u001b[49m\n\u001b[0;32m    892\u001b[0m \u001b[43m        \u001b[49m\u001b[43magent_action\u001b[49m\u001b[38;5;241;43m.\u001b[39;49m\u001b[43mtool_input\u001b[49m\u001b[43m,\u001b[49m\n\u001b[0;32m    893\u001b[0m \u001b[43m        \u001b[49m\u001b[43mverbose\u001b[49m\u001b[38;5;241;43m=\u001b[39;49m\u001b[38;5;28;43mself\u001b[39;49m\u001b[38;5;241;43m.\u001b[39;49m\u001b[43mverbose\u001b[49m\u001b[43m,\u001b[49m\n\u001b[0;32m    894\u001b[0m \u001b[43m        \u001b[49m\u001b[43mcolor\u001b[49m\u001b[38;5;241;43m=\u001b[39;49m\u001b[43mcolor\u001b[49m\u001b[43m,\u001b[49m\n\u001b[0;32m    895\u001b[0m \u001b[43m        \u001b[49m\u001b[43mcallbacks\u001b[49m\u001b[38;5;241;43m=\u001b[39;49m\u001b[43mrun_manager\u001b[49m\u001b[38;5;241;43m.\u001b[39;49m\u001b[43mget_child\u001b[49m\u001b[43m(\u001b[49m\u001b[43m)\u001b[49m\u001b[43m \u001b[49m\u001b[38;5;28;43;01mif\u001b[39;49;00m\u001b[43m \u001b[49m\u001b[43mrun_manager\u001b[49m\u001b[43m \u001b[49m\u001b[38;5;28;43;01melse\u001b[39;49;00m\u001b[43m \u001b[49m\u001b[38;5;28;43;01mNone\u001b[39;49;00m\u001b[43m,\u001b[49m\n\u001b[0;32m    896\u001b[0m \u001b[43m        \u001b[49m\u001b[38;5;241;43m*\u001b[39;49m\u001b[38;5;241;43m*\u001b[39;49m\u001b[43mtool_run_kwargs\u001b[49m\u001b[43m,\u001b[49m\n\u001b[0;32m    897\u001b[0m \u001b[43m    \u001b[49m\u001b[43m)\u001b[49m\n\u001b[0;32m    898\u001b[0m \u001b[38;5;28;01melse\u001b[39;00m:\n\u001b[0;32m    899\u001b[0m     tool_run_kwargs \u001b[38;5;241m=\u001b[39m \u001b[38;5;28mself\u001b[39m\u001b[38;5;241m.\u001b[39magent\u001b[38;5;241m.\u001b[39mtool_run_logging_kwargs()\n",
      "File \u001b[1;32m~\\miniconda3\\envs\\pitch_deck_gpt\\Lib\\site-packages\\langchain\\tools\\base.py:351\u001b[0m, in \u001b[0;36mBaseTool.run\u001b[1;34m(self, tool_input, verbose, start_color, color, callbacks, tags, metadata, **kwargs)\u001b[0m\n\u001b[0;32m    349\u001b[0m \u001b[38;5;28;01mexcept\u001b[39;00m (\u001b[38;5;167;01mException\u001b[39;00m, \u001b[38;5;167;01mKeyboardInterrupt\u001b[39;00m) \u001b[38;5;28;01mas\u001b[39;00m e:\n\u001b[0;32m    350\u001b[0m     run_manager\u001b[38;5;241m.\u001b[39mon_tool_error(e)\n\u001b[1;32m--> 351\u001b[0m     \u001b[38;5;28;01mraise\u001b[39;00m e\n\u001b[0;32m    352\u001b[0m \u001b[38;5;28;01melse\u001b[39;00m:\n\u001b[0;32m    353\u001b[0m     run_manager\u001b[38;5;241m.\u001b[39mon_tool_end(\n\u001b[0;32m    354\u001b[0m         \u001b[38;5;28mstr\u001b[39m(observation), color\u001b[38;5;241m=\u001b[39mcolor, name\u001b[38;5;241m=\u001b[39m\u001b[38;5;28mself\u001b[39m\u001b[38;5;241m.\u001b[39mname, \u001b[38;5;241m*\u001b[39m\u001b[38;5;241m*\u001b[39mkwargs\n\u001b[0;32m    355\u001b[0m     )\n",
      "File \u001b[1;32m~\\miniconda3\\envs\\pitch_deck_gpt\\Lib\\site-packages\\langchain\\tools\\base.py:323\u001b[0m, in \u001b[0;36mBaseTool.run\u001b[1;34m(self, tool_input, verbose, start_color, color, callbacks, tags, metadata, **kwargs)\u001b[0m\n\u001b[0;32m    320\u001b[0m \u001b[38;5;28;01mtry\u001b[39;00m:\n\u001b[0;32m    321\u001b[0m     tool_args, tool_kwargs \u001b[38;5;241m=\u001b[39m \u001b[38;5;28mself\u001b[39m\u001b[38;5;241m.\u001b[39m_to_args_and_kwargs(parsed_input)\n\u001b[0;32m    322\u001b[0m     observation \u001b[38;5;241m=\u001b[39m (\n\u001b[1;32m--> 323\u001b[0m         \u001b[38;5;28;43mself\u001b[39;49m\u001b[38;5;241;43m.\u001b[39;49m\u001b[43m_run\u001b[49m\u001b[43m(\u001b[49m\u001b[38;5;241;43m*\u001b[39;49m\u001b[43mtool_args\u001b[49m\u001b[43m,\u001b[49m\u001b[43m \u001b[49m\u001b[43mrun_manager\u001b[49m\u001b[38;5;241;43m=\u001b[39;49m\u001b[43mrun_manager\u001b[49m\u001b[43m,\u001b[49m\u001b[43m \u001b[49m\u001b[38;5;241;43m*\u001b[39;49m\u001b[38;5;241;43m*\u001b[39;49m\u001b[43mtool_kwargs\u001b[49m\u001b[43m)\u001b[49m\n\u001b[0;32m    324\u001b[0m         \u001b[38;5;28;01mif\u001b[39;00m new_arg_supported\n\u001b[0;32m    325\u001b[0m         \u001b[38;5;28;01melse\u001b[39;00m \u001b[38;5;28mself\u001b[39m\u001b[38;5;241m.\u001b[39m_run(\u001b[38;5;241m*\u001b[39mtool_args, \u001b[38;5;241m*\u001b[39m\u001b[38;5;241m*\u001b[39mtool_kwargs)\n\u001b[0;32m    326\u001b[0m     )\n\u001b[0;32m    327\u001b[0m \u001b[38;5;28;01mexcept\u001b[39;00m ToolException \u001b[38;5;28;01mas\u001b[39;00m e:\n\u001b[0;32m    328\u001b[0m     \u001b[38;5;28;01mif\u001b[39;00m \u001b[38;5;129;01mnot\u001b[39;00m \u001b[38;5;28mself\u001b[39m\u001b[38;5;241m.\u001b[39mhandle_tool_error:\n",
      "\u001b[1;31mTypeError\u001b[0m: DuckDuckGoSearchRun._run() got an unexpected keyword argument 'arg1'"
     ]
    }
   ],
   "source": [
    "# sam_answer = agent_executor_sam.run(prompt)"
   ]
  },
  {
   "cell_type": "code",
   "execution_count": 73,
   "id": "d5e965ae-bb67-4415-b0e4-87867148a9f9",
   "metadata": {
    "collapsed": true,
    "jupyter": {
     "outputs_hidden": true
    }
   },
   "outputs": [
    {
     "name": "stdout",
     "output_type": "stream",
     "text": [
      "\n",
      "\n",
      "\u001b[1m> Entering new AgentExecutor chain...\u001b[0m\n",
      "\u001b[32;1m\u001b[1;3mThought: To find competitors of the company \"ООО РеоКат\", I will first search directly for competitors of the company. If I don't find any relevant information, I will search for companies in the same industry based on the description provided.\n",
      "\n",
      "Action:\n",
      "```\n",
      "{\n",
      "  \"action\": \"duckduckgo_search\",\n",
      "  \"action_input\": \"конкуренты ООО РеоКат\"\n",
      "}\n",
      "```\n",
      "\n",
      "\u001b[0m\n",
      "Observation: \u001b[36;1m\u001b[1;3mФинансовое состояние ООО \"РЕОКАТ\" По сравнению с отраслевыми показателями в т.ч. изменение за 2021 год «РеоКат» примет участие в конференции «Минеральные удобрения 2023». Генеральный директор компании Генеральный директор компании Что можно узнать об организации ООО \"РЕОКАТ\" (Королёв, ИНН 9731049544) из ЕГРЮЛ и других официальных источников: директор, учредитель, выручка и много другое для проверки контрагента. Однако для компании РеоКат быть первым недостаточно. Для них было важно подчеркнуть, что они не только первые, но и единственные в России в своей сфере. ТОП-6 сервисов в 2023 году для анализа сайтов конкурентов. Теперь Вы можете читать последние новости из мира интернет-маркетинга в мессенджере Telegram на своём мобильном телефоне. Для этого вам ...\u001b[0m\n",
      "Thought:"
     ]
    },
    {
     "ename": "OutputParserException",
     "evalue": "Could not parse LLM output: ",
     "output_type": "error",
     "traceback": [
      "\u001b[1;31m---------------------------------------------------------------------------\u001b[0m",
      "\u001b[1;31mValueError\u001b[0m                                Traceback (most recent call last)",
      "File \u001b[1;32m~\\miniconda3\\envs\\pitch_deck_gpt\\Lib\\site-packages\\langchain\\agents\\chat\\output_parser.py:27\u001b[0m, in \u001b[0;36mChatOutputParser.parse\u001b[1;34m(self, text)\u001b[0m\n\u001b[0;32m     25\u001b[0m \u001b[38;5;28;01mif\u001b[39;00m \u001b[38;5;129;01mnot\u001b[39;00m found:\n\u001b[0;32m     26\u001b[0m     \u001b[38;5;66;03m# Fast fail to parse Final Answer.\u001b[39;00m\n\u001b[1;32m---> 27\u001b[0m     \u001b[38;5;28;01mraise\u001b[39;00m \u001b[38;5;167;01mValueError\u001b[39;00m(\u001b[38;5;124m\"\u001b[39m\u001b[38;5;124maction not found\u001b[39m\u001b[38;5;124m\"\u001b[39m)\n\u001b[0;32m     28\u001b[0m action \u001b[38;5;241m=\u001b[39m found\u001b[38;5;241m.\u001b[39mgroup(\u001b[38;5;241m1\u001b[39m)\n",
      "\u001b[1;31mValueError\u001b[0m: action not found",
      "\nDuring handling of the above exception, another exception occurred:\n",
      "\u001b[1;31mOutputParserException\u001b[0m                     Traceback (most recent call last)",
      "Cell \u001b[1;32mIn[73], line 5\u001b[0m\n\u001b[0;32m      1\u001b[0m tools \u001b[38;5;241m=\u001b[39m [DuckDuckGoSearchRun()]\n\u001b[0;32m      2\u001b[0m agent \u001b[38;5;241m=\u001b[39m initialize_agent(\n\u001b[0;32m      3\u001b[0m     tools, llm, agent\u001b[38;5;241m=\u001b[39mAgentType\u001b[38;5;241m.\u001b[39mCHAT_ZERO_SHOT_REACT_DESCRIPTION, verbose\u001b[38;5;241m=\u001b[39m\u001b[38;5;28;01mTrue\u001b[39;00m\n\u001b[0;32m      4\u001b[0m )\n\u001b[1;32m----> 5\u001b[0m competitors \u001b[38;5;241m=\u001b[39m \u001b[43magent\u001b[49m\u001b[38;5;241;43m.\u001b[39;49m\u001b[43mrun\u001b[49m\u001b[43m(\u001b[49m\u001b[43mprompt\u001b[49m\u001b[43m)\u001b[49m\n",
      "File \u001b[1;32m~\\miniconda3\\envs\\pitch_deck_gpt\\Lib\\site-packages\\langchain\\chains\\base.py:475\u001b[0m, in \u001b[0;36mChain.run\u001b[1;34m(self, callbacks, tags, metadata, *args, **kwargs)\u001b[0m\n\u001b[0;32m    473\u001b[0m     \u001b[38;5;28;01mif\u001b[39;00m \u001b[38;5;28mlen\u001b[39m(args) \u001b[38;5;241m!=\u001b[39m \u001b[38;5;241m1\u001b[39m:\n\u001b[0;32m    474\u001b[0m         \u001b[38;5;28;01mraise\u001b[39;00m \u001b[38;5;167;01mValueError\u001b[39;00m(\u001b[38;5;124m\"\u001b[39m\u001b[38;5;124m`run` supports only one positional argument.\u001b[39m\u001b[38;5;124m\"\u001b[39m)\n\u001b[1;32m--> 475\u001b[0m     \u001b[38;5;28;01mreturn\u001b[39;00m \u001b[38;5;28;43mself\u001b[39;49m\u001b[43m(\u001b[49m\u001b[43margs\u001b[49m\u001b[43m[\u001b[49m\u001b[38;5;241;43m0\u001b[39;49m\u001b[43m]\u001b[49m\u001b[43m,\u001b[49m\u001b[43m \u001b[49m\u001b[43mcallbacks\u001b[49m\u001b[38;5;241;43m=\u001b[39;49m\u001b[43mcallbacks\u001b[49m\u001b[43m,\u001b[49m\u001b[43m \u001b[49m\u001b[43mtags\u001b[49m\u001b[38;5;241;43m=\u001b[39;49m\u001b[43mtags\u001b[49m\u001b[43m,\u001b[49m\u001b[43m \u001b[49m\u001b[43mmetadata\u001b[49m\u001b[38;5;241;43m=\u001b[39;49m\u001b[43mmetadata\u001b[49m\u001b[43m)\u001b[49m[\n\u001b[0;32m    476\u001b[0m         _output_key\n\u001b[0;32m    477\u001b[0m     ]\n\u001b[0;32m    479\u001b[0m \u001b[38;5;28;01mif\u001b[39;00m kwargs \u001b[38;5;129;01mand\u001b[39;00m \u001b[38;5;129;01mnot\u001b[39;00m args:\n\u001b[0;32m    480\u001b[0m     \u001b[38;5;28;01mreturn\u001b[39;00m \u001b[38;5;28mself\u001b[39m(kwargs, callbacks\u001b[38;5;241m=\u001b[39mcallbacks, tags\u001b[38;5;241m=\u001b[39mtags, metadata\u001b[38;5;241m=\u001b[39mmetadata)[\n\u001b[0;32m    481\u001b[0m         _output_key\n\u001b[0;32m    482\u001b[0m     ]\n",
      "File \u001b[1;32m~\\miniconda3\\envs\\pitch_deck_gpt\\Lib\\site-packages\\langchain\\chains\\base.py:282\u001b[0m, in \u001b[0;36mChain.__call__\u001b[1;34m(self, inputs, return_only_outputs, callbacks, tags, metadata, include_run_info)\u001b[0m\n\u001b[0;32m    280\u001b[0m \u001b[38;5;28;01mexcept\u001b[39;00m (\u001b[38;5;167;01mKeyboardInterrupt\u001b[39;00m, \u001b[38;5;167;01mException\u001b[39;00m) \u001b[38;5;28;01mas\u001b[39;00m e:\n\u001b[0;32m    281\u001b[0m     run_manager\u001b[38;5;241m.\u001b[39mon_chain_error(e)\n\u001b[1;32m--> 282\u001b[0m     \u001b[38;5;28;01mraise\u001b[39;00m e\n\u001b[0;32m    283\u001b[0m run_manager\u001b[38;5;241m.\u001b[39mon_chain_end(outputs)\n\u001b[0;32m    284\u001b[0m final_outputs: Dict[\u001b[38;5;28mstr\u001b[39m, Any] \u001b[38;5;241m=\u001b[39m \u001b[38;5;28mself\u001b[39m\u001b[38;5;241m.\u001b[39mprep_outputs(\n\u001b[0;32m    285\u001b[0m     inputs, outputs, return_only_outputs\n\u001b[0;32m    286\u001b[0m )\n",
      "File \u001b[1;32m~\\miniconda3\\envs\\pitch_deck_gpt\\Lib\\site-packages\\langchain\\chains\\base.py:276\u001b[0m, in \u001b[0;36mChain.__call__\u001b[1;34m(self, inputs, return_only_outputs, callbacks, tags, metadata, include_run_info)\u001b[0m\n\u001b[0;32m    270\u001b[0m run_manager \u001b[38;5;241m=\u001b[39m callback_manager\u001b[38;5;241m.\u001b[39mon_chain_start(\n\u001b[0;32m    271\u001b[0m     dumpd(\u001b[38;5;28mself\u001b[39m),\n\u001b[0;32m    272\u001b[0m     inputs,\n\u001b[0;32m    273\u001b[0m )\n\u001b[0;32m    274\u001b[0m \u001b[38;5;28;01mtry\u001b[39;00m:\n\u001b[0;32m    275\u001b[0m     outputs \u001b[38;5;241m=\u001b[39m (\n\u001b[1;32m--> 276\u001b[0m         \u001b[38;5;28;43mself\u001b[39;49m\u001b[38;5;241;43m.\u001b[39;49m\u001b[43m_call\u001b[49m\u001b[43m(\u001b[49m\u001b[43minputs\u001b[49m\u001b[43m,\u001b[49m\u001b[43m \u001b[49m\u001b[43mrun_manager\u001b[49m\u001b[38;5;241;43m=\u001b[39;49m\u001b[43mrun_manager\u001b[49m\u001b[43m)\u001b[49m\n\u001b[0;32m    277\u001b[0m         \u001b[38;5;28;01mif\u001b[39;00m new_arg_supported\n\u001b[0;32m    278\u001b[0m         \u001b[38;5;28;01melse\u001b[39;00m \u001b[38;5;28mself\u001b[39m\u001b[38;5;241m.\u001b[39m_call(inputs)\n\u001b[0;32m    279\u001b[0m     )\n\u001b[0;32m    280\u001b[0m \u001b[38;5;28;01mexcept\u001b[39;00m (\u001b[38;5;167;01mKeyboardInterrupt\u001b[39;00m, \u001b[38;5;167;01mException\u001b[39;00m) \u001b[38;5;28;01mas\u001b[39;00m e:\n\u001b[0;32m    281\u001b[0m     run_manager\u001b[38;5;241m.\u001b[39mon_chain_error(e)\n",
      "File \u001b[1;32m~\\miniconda3\\envs\\pitch_deck_gpt\\Lib\\site-packages\\langchain\\agents\\agent.py:1036\u001b[0m, in \u001b[0;36mAgentExecutor._call\u001b[1;34m(self, inputs, run_manager)\u001b[0m\n\u001b[0;32m   1034\u001b[0m \u001b[38;5;66;03m# We now enter the agent loop (until it returns something).\u001b[39;00m\n\u001b[0;32m   1035\u001b[0m \u001b[38;5;28;01mwhile\u001b[39;00m \u001b[38;5;28mself\u001b[39m\u001b[38;5;241m.\u001b[39m_should_continue(iterations, time_elapsed):\n\u001b[1;32m-> 1036\u001b[0m     next_step_output \u001b[38;5;241m=\u001b[39m \u001b[38;5;28;43mself\u001b[39;49m\u001b[38;5;241;43m.\u001b[39;49m\u001b[43m_take_next_step\u001b[49m\u001b[43m(\u001b[49m\n\u001b[0;32m   1037\u001b[0m \u001b[43m        \u001b[49m\u001b[43mname_to_tool_map\u001b[49m\u001b[43m,\u001b[49m\n\u001b[0;32m   1038\u001b[0m \u001b[43m        \u001b[49m\u001b[43mcolor_mapping\u001b[49m\u001b[43m,\u001b[49m\n\u001b[0;32m   1039\u001b[0m \u001b[43m        \u001b[49m\u001b[43minputs\u001b[49m\u001b[43m,\u001b[49m\n\u001b[0;32m   1040\u001b[0m \u001b[43m        \u001b[49m\u001b[43mintermediate_steps\u001b[49m\u001b[43m,\u001b[49m\n\u001b[0;32m   1041\u001b[0m \u001b[43m        \u001b[49m\u001b[43mrun_manager\u001b[49m\u001b[38;5;241;43m=\u001b[39;49m\u001b[43mrun_manager\u001b[49m\u001b[43m,\u001b[49m\n\u001b[0;32m   1042\u001b[0m \u001b[43m    \u001b[49m\u001b[43m)\u001b[49m\n\u001b[0;32m   1043\u001b[0m     \u001b[38;5;28;01mif\u001b[39;00m \u001b[38;5;28misinstance\u001b[39m(next_step_output, AgentFinish):\n\u001b[0;32m   1044\u001b[0m         \u001b[38;5;28;01mreturn\u001b[39;00m \u001b[38;5;28mself\u001b[39m\u001b[38;5;241m.\u001b[39m_return(\n\u001b[0;32m   1045\u001b[0m             next_step_output, intermediate_steps, run_manager\u001b[38;5;241m=\u001b[39mrun_manager\n\u001b[0;32m   1046\u001b[0m         )\n",
      "File \u001b[1;32m~\\miniconda3\\envs\\pitch_deck_gpt\\Lib\\site-packages\\langchain\\agents\\agent.py:844\u001b[0m, in \u001b[0;36mAgentExecutor._take_next_step\u001b[1;34m(self, name_to_tool_map, color_mapping, inputs, intermediate_steps, run_manager)\u001b[0m\n\u001b[0;32m    842\u001b[0m     raise_error \u001b[38;5;241m=\u001b[39m \u001b[38;5;28;01mFalse\u001b[39;00m\n\u001b[0;32m    843\u001b[0m \u001b[38;5;28;01mif\u001b[39;00m raise_error:\n\u001b[1;32m--> 844\u001b[0m     \u001b[38;5;28;01mraise\u001b[39;00m e\n\u001b[0;32m    845\u001b[0m text \u001b[38;5;241m=\u001b[39m \u001b[38;5;28mstr\u001b[39m(e)\n\u001b[0;32m    846\u001b[0m \u001b[38;5;28;01mif\u001b[39;00m \u001b[38;5;28misinstance\u001b[39m(\u001b[38;5;28mself\u001b[39m\u001b[38;5;241m.\u001b[39mhandle_parsing_errors, \u001b[38;5;28mbool\u001b[39m):\n",
      "File \u001b[1;32m~\\miniconda3\\envs\\pitch_deck_gpt\\Lib\\site-packages\\langchain\\agents\\agent.py:833\u001b[0m, in \u001b[0;36mAgentExecutor._take_next_step\u001b[1;34m(self, name_to_tool_map, color_mapping, inputs, intermediate_steps, run_manager)\u001b[0m\n\u001b[0;32m    830\u001b[0m     intermediate_steps \u001b[38;5;241m=\u001b[39m \u001b[38;5;28mself\u001b[39m\u001b[38;5;241m.\u001b[39m_prepare_intermediate_steps(intermediate_steps)\n\u001b[0;32m    832\u001b[0m     \u001b[38;5;66;03m# Call the LLM to see what to do.\u001b[39;00m\n\u001b[1;32m--> 833\u001b[0m     output \u001b[38;5;241m=\u001b[39m \u001b[38;5;28;43mself\u001b[39;49m\u001b[38;5;241;43m.\u001b[39;49m\u001b[43magent\u001b[49m\u001b[38;5;241;43m.\u001b[39;49m\u001b[43mplan\u001b[49m\u001b[43m(\u001b[49m\n\u001b[0;32m    834\u001b[0m \u001b[43m        \u001b[49m\u001b[43mintermediate_steps\u001b[49m\u001b[43m,\u001b[49m\n\u001b[0;32m    835\u001b[0m \u001b[43m        \u001b[49m\u001b[43mcallbacks\u001b[49m\u001b[38;5;241;43m=\u001b[39;49m\u001b[43mrun_manager\u001b[49m\u001b[38;5;241;43m.\u001b[39;49m\u001b[43mget_child\u001b[49m\u001b[43m(\u001b[49m\u001b[43m)\u001b[49m\u001b[43m \u001b[49m\u001b[38;5;28;43;01mif\u001b[39;49;00m\u001b[43m \u001b[49m\u001b[43mrun_manager\u001b[49m\u001b[43m \u001b[49m\u001b[38;5;28;43;01melse\u001b[39;49;00m\u001b[43m \u001b[49m\u001b[38;5;28;43;01mNone\u001b[39;49;00m\u001b[43m,\u001b[49m\n\u001b[0;32m    836\u001b[0m \u001b[43m        \u001b[49m\u001b[38;5;241;43m*\u001b[39;49m\u001b[38;5;241;43m*\u001b[39;49m\u001b[43minputs\u001b[49m\u001b[43m,\u001b[49m\n\u001b[0;32m    837\u001b[0m \u001b[43m    \u001b[49m\u001b[43m)\u001b[49m\n\u001b[0;32m    838\u001b[0m \u001b[38;5;28;01mexcept\u001b[39;00m OutputParserException \u001b[38;5;28;01mas\u001b[39;00m e:\n\u001b[0;32m    839\u001b[0m     \u001b[38;5;28;01mif\u001b[39;00m \u001b[38;5;28misinstance\u001b[39m(\u001b[38;5;28mself\u001b[39m\u001b[38;5;241m.\u001b[39mhandle_parsing_errors, \u001b[38;5;28mbool\u001b[39m):\n",
      "File \u001b[1;32m~\\miniconda3\\envs\\pitch_deck_gpt\\Lib\\site-packages\\langchain\\agents\\agent.py:457\u001b[0m, in \u001b[0;36mAgent.plan\u001b[1;34m(self, intermediate_steps, callbacks, **kwargs)\u001b[0m\n\u001b[0;32m    455\u001b[0m full_inputs \u001b[38;5;241m=\u001b[39m \u001b[38;5;28mself\u001b[39m\u001b[38;5;241m.\u001b[39mget_full_inputs(intermediate_steps, \u001b[38;5;241m*\u001b[39m\u001b[38;5;241m*\u001b[39mkwargs)\n\u001b[0;32m    456\u001b[0m full_output \u001b[38;5;241m=\u001b[39m \u001b[38;5;28mself\u001b[39m\u001b[38;5;241m.\u001b[39mllm_chain\u001b[38;5;241m.\u001b[39mpredict(callbacks\u001b[38;5;241m=\u001b[39mcallbacks, \u001b[38;5;241m*\u001b[39m\u001b[38;5;241m*\u001b[39mfull_inputs)\n\u001b[1;32m--> 457\u001b[0m \u001b[38;5;28;01mreturn\u001b[39;00m \u001b[38;5;28;43mself\u001b[39;49m\u001b[38;5;241;43m.\u001b[39;49m\u001b[43moutput_parser\u001b[49m\u001b[38;5;241;43m.\u001b[39;49m\u001b[43mparse\u001b[49m\u001b[43m(\u001b[49m\u001b[43mfull_output\u001b[49m\u001b[43m)\u001b[49m\n",
      "File \u001b[1;32m~\\miniconda3\\envs\\pitch_deck_gpt\\Lib\\site-packages\\langchain\\agents\\chat\\output_parser.py:42\u001b[0m, in \u001b[0;36mChatOutputParser.parse\u001b[1;34m(self, text)\u001b[0m\n\u001b[0;32m     40\u001b[0m \u001b[38;5;28;01mexcept\u001b[39;00m \u001b[38;5;167;01mException\u001b[39;00m:\n\u001b[0;32m     41\u001b[0m     \u001b[38;5;28;01mif\u001b[39;00m \u001b[38;5;129;01mnot\u001b[39;00m includes_answer:\n\u001b[1;32m---> 42\u001b[0m         \u001b[38;5;28;01mraise\u001b[39;00m OutputParserException(\u001b[38;5;124mf\u001b[39m\u001b[38;5;124m\"\u001b[39m\u001b[38;5;124mCould not parse LLM output: \u001b[39m\u001b[38;5;132;01m{\u001b[39;00mtext\u001b[38;5;132;01m}\u001b[39;00m\u001b[38;5;124m\"\u001b[39m)\n\u001b[0;32m     43\u001b[0m     output \u001b[38;5;241m=\u001b[39m text\u001b[38;5;241m.\u001b[39msplit(FINAL_ANSWER_ACTION)[\u001b[38;5;241m-\u001b[39m\u001b[38;5;241m1\u001b[39m]\u001b[38;5;241m.\u001b[39mstrip()\n\u001b[0;32m     44\u001b[0m     \u001b[38;5;28;01mreturn\u001b[39;00m AgentFinish({\u001b[38;5;124m\"\u001b[39m\u001b[38;5;124moutput\u001b[39m\u001b[38;5;124m\"\u001b[39m: output}, text)\n",
      "\u001b[1;31mOutputParserException\u001b[0m: Could not parse LLM output: "
     ]
    }
   ],
   "source": [
    "tools = [DuckDuckGoSearchRun()]\n",
    "agent = initialize_agent(\n",
    "    tools, llm, agent=AgentType.CHAT_ZERO_SHOT_REACT_DESCRIPTION, verbose=True\n",
    ")\n",
    "competitors = agent.run(prompt)"
   ]
  },
  {
   "cell_type": "code",
   "execution_count": null,
   "id": "3b4c2a96-31b5-4cde-8c8d-c5992ee0d620",
   "metadata": {},
   "outputs": [],
   "source": []
  },
  {
   "cell_type": "markdown",
   "id": "69b11cb7-34b9-4522-97c0-62cddbbd74c9",
   "metadata": {},
   "source": [
    "Не получается пока сделать поиск по конкурентам. Поэтому откатимся к самому простому варианту, в котором проводим стартапера через самостоятальное определение SAM."
   ]
  },
  {
   "cell_type": "markdown",
   "id": "e5495cf7-ec10-4250-8223-312fd36fef8d",
   "metadata": {},
   "source": [
    "##### Самостоятельное определение SAM стартапером"
   ]
  },
  {
   "cell_type": "markdown",
   "id": "e91b646e-1b12-472f-9535-9d7aa13cb93e",
   "metadata": {},
   "source": [
    "Шаг 0: Берем TAM в виде денежного объема и/или кол-ва клиентов и/или объема спроса.\n",
    "\n",
    "Шаг 1: Разделение Потребности по Типам Прямой и Косвенной Конкуренции\n",
    "\n",
    "Идентифицируйте различные типы конкуренции на рынке - прямую (конкуренты, предоставляющие аналогичные продукты или услуги) и косвенную (альтернативные решения для удовлетворения потребности).\n",
    "Разделите объем потребности из TAM между этими типами конкуренции, чтобы понять, какие части рынка контролируют ваши конкуренты, а какие - открыты для вас.\n",
    "\n",
    "Шаг 2: Допущение о Доли Рынка\n",
    "\n",
    "Проанализируйте, какую долю рынка вы хотели бы получить у конкурентов. Это может быть основано на вашей стратегии роста и конкурентных преимуществах.\n",
    "\n",
    "Шаг 3: Допущение о Новых Клиентах\n",
    "\n",
    "Рассмотрите возможность привлечения новых клиентов, которые ранее не пользовались аналогичными продуктами или услугами. Сделайте предположение о том, сколько из этих клиентов могли бы стать вашими клиентами благодаря вашим преимуществам (например, более низкая цена, улучшенные характеристики продукта).\n",
    "\n",
    "Шаг 4: Рассчет Количества Клиентов и Потребностей\n",
    "\n",
    "Используя знания о количестве потребности на потребителя (полученные при расчете TAM) и допущения из предыдущих шагов, рассчитайте количество клиентов и потребностей, которые вы можете охватить в рамках вашей стратегии."
   ]
  },
  {
   "cell_type": "markdown",
   "id": "77ed76ad-9b47-4870-9554-1a64fa626334",
   "metadata": {},
   "source": [
    "Эту инструкцию кастомизируем под специфику бизнеса и ждем ввода инфы от стартапера."
   ]
  },
  {
   "cell_type": "markdown",
   "id": "dfd2955e-1053-4101-9f06-e6639e4eddd0",
   "metadata": {},
   "source": [
    "Создадим цепь."
   ]
  },
  {
   "cell_type": "code",
   "execution_count": 74,
   "id": "e5585e39-8af3-4652-a864-53150de0c4e7",
   "metadata": {},
   "outputs": [],
   "source": [
    "sam_instruction_for_client_prompt = '''\n",
    "\n",
    "Измени шаблон инструкции в соответствии с описанием компании, чтобы владельцу компании было легко собрать необходимые данные и посчитать SAM.\n",
    "\n",
    "Шаблон инструкции:\n",
    "```\n",
    "Шаг 0: Берем TAM в виде денежного объема и/или кол-ва клиентов и/или объема спроса.\n",
    "\n",
    "Шаг 1: Разделение Потребности по Типам Прямой и Косвенной Конкуренции\n",
    "\n",
    "Идентифицируйте различные типы конкуренции на рынке - прямую (конкуренты, предоставляющие аналогичные продукты или услуги) и косвенную (альтернативные решения для удовлетворения потребности).\n",
    "Разделите объем потребности из TAM между этими типами конкуренции, чтобы понять, какие части рынка контролируют ваши конкуренты, а какие - открыты для вас.\n",
    "\n",
    "Шаг 2: Допущение о Доли Рынка\n",
    "\n",
    "Проанализируйте, какую долю рынка вы хотели бы получить у конкурентов. Это может быть основано на вашей стратегии роста и конкурентных преимуществах.\n",
    "\n",
    "Шаг 3: Допущение о Новых Клиентах\n",
    "\n",
    "Рассмотрите возможность привлечения новых клиентов, которые ранее не пользовались аналогичными продуктами или услугами. Сделайте предположение о том, сколько из этих клиентов могли бы стать вашими клиентами благодаря вашим преимуществам (например, более низкая цена, улучшенные характеристики продукта).\n",
    "\n",
    "Шаг 4: Рассчет Количества Клиентов и Потребностей\n",
    "\n",
    "Используя знания о количестве потребности на потребителя (полученные при расчете TAM) и допущения из предыдущих шагов, рассчитайте количество клиентов и потребностей, которые вы можете охватить в рамках вашей стратегии.\n",
    "```\n",
    "\n",
    "Описание компании:\n",
    "{text}\n",
    "'''"
   ]
  },
  {
   "cell_type": "code",
   "execution_count": 75,
   "id": "b11f1d11-8279-492e-8361-72bf142f8363",
   "metadata": {},
   "outputs": [],
   "source": [
    "sam_instruction_for_client_template = ChatPromptTemplate.from_template(sam_instruction_for_client_prompt)"
   ]
  },
  {
   "cell_type": "code",
   "execution_count": 76,
   "id": "2e9515d1-3aad-4ec0-a5d8-4ee7804d73e3",
   "metadata": {},
   "outputs": [],
   "source": [
    "sam_instruction_for_client_chain = LLMChain(\n",
    "    prompt=sam_instruction_for_client_template,\n",
    "    llm=llm, \n",
    "    verbose=True\n",
    ")"
   ]
  },
  {
   "cell_type": "code",
   "execution_count": 77,
   "id": "8cee6570-ac3e-44f9-977d-e103e5676fc9",
   "metadata": {},
   "outputs": [],
   "source": [
    "description = '''\"Компания ООО «РеоКат» работает в области сервиса катализаторов нефтепереработки и систем аминовой очистки газов. Компания специализируется на релизации проектов связанных с:\n",
    "1. Мобильными комплексами высокоэффективной регенерации наноструктурированных катализаторов гидропроцессов нефтепереработки, включающий блок очистки отходящих газов.\n",
    "2. Сервисе катализаторных систем: компания  оказывает услуги по выгрузке и загрузке катализаторов и адсорбентов, сульфидированию катализаторов гидроочистки.\n",
    "3. Компания занимается очисткой аминовых растворов от механических примесей и термостабильных солей.Цеолит представляет собой гранулы, длиной 3-6 мм и диаметром 1-2 мм. При эксплуатации цеолита на установках очистки или осушки в течение нескольких лет на нем накапливаются сера и углерод, которые не могут быть удалены при регенерации в процессе и снижают его емкость. Цеолит выгружают из адсорберов и заменяют на новый. Отработанный цеолит направляется на утилизацию. Срок службы цеолита — от 6 месяцев до 4 лет.\"\n",
    "'''"
   ]
  },
  {
   "cell_type": "code",
   "execution_count": 78,
   "id": "b90fa342-45eb-48b8-9d90-b37bb7a04f9f",
   "metadata": {},
   "outputs": [
    {
     "name": "stdout",
     "output_type": "stream",
     "text": [
      "\n",
      "\n",
      "\u001b[1m> Entering new LLMChain chain...\u001b[0m\n",
      "Prompt after formatting:\n",
      "\u001b[32;1m\u001b[1;3mHuman: \n",
      "\n",
      "Измени шаблон инструкции в соответствии с описанием компании, чтобы владельцу компании было легко собрать необходимые данные и посчитать SAM.\n",
      "\n",
      "Шаблон инструкции:\n",
      "```\n",
      "Шаг 0: Берем TAM в виде денежного объема и/или кол-ва клиентов и/или объема спроса.\n",
      "\n",
      "Шаг 1: Разделение Потребности по Типам Прямой и Косвенной Конкуренции\n",
      "\n",
      "Идентифицируйте различные типы конкуренции на рынке - прямую (конкуренты, предоставляющие аналогичные продукты или услуги) и косвенную (альтернативные решения для удовлетворения потребности).\n",
      "Разделите объем потребности из TAM между этими типами конкуренции, чтобы понять, какие части рынка контролируют ваши конкуренты, а какие - открыты для вас.\n",
      "\n",
      "Шаг 2: Допущение о Доли Рынка\n",
      "\n",
      "Проанализируйте, какую долю рынка вы хотели бы получить у конкурентов. Это может быть основано на вашей стратегии роста и конкурентных преимуществах.\n",
      "\n",
      "Шаг 3: Допущение о Новых Клиентах\n",
      "\n",
      "Рассмотрите возможность привлечения новых клиентов, которые ранее не пользовались аналогичными продуктами или услугами. Сделайте предположение о том, сколько из этих клиентов могли бы стать вашими клиентами благодаря вашим преимуществам (например, более низкая цена, улучшенные характеристики продукта).\n",
      "\n",
      "Шаг 4: Рассчет Количества Клиентов и Потребностей\n",
      "\n",
      "Используя знания о количестве потребности на потребителя (полученные при расчете TAM) и допущения из предыдущих шагов, рассчитайте количество клиентов и потребностей, которые вы можете охватить в рамках вашей стратегии.\n",
      "```\n",
      "\n",
      "Описание компании:\n",
      "\"Компания ООО «РеоКат» работает в области сервиса катализаторов нефтепереработки и систем аминовой очистки газов. Компания специализируется на релизации проектов связанных с:\n",
      "1. Мобильными комплексами высокоэффективной регенерации наноструктурированных катализаторов гидропроцессов нефтепереработки, включающий блок очистки отходящих газов.\n",
      "2. Сервисе катализаторных систем: компания  оказывает услуги по выгрузке и загрузке катализаторов и адсорбентов, сульфидированию катализаторов гидроочистки.\n",
      "3. Компания занимается очисткой аминовых растворов от механических примесей и термостабильных солей.Цеолит представляет собой гранулы, длиной 3-6 мм и диаметром 1-2 мм. При эксплуатации цеолита на установках очистки или осушки в течение нескольких лет на нем накапливаются сера и углерод, которые не могут быть удалены при регенерации в процессе и снижают его емкость. Цеолит выгружают из адсорберов и заменяют на новый. Отработанный цеолит направляется на утилизацию. Срок службы цеолита — от 6 месяцев до 4 лет.\"\n",
      "\n",
      "\u001b[0m\n"
     ]
    },
    {
     "name": "stderr",
     "output_type": "stream",
     "text": [
      "Retrying langchain.chat_models.openai.ChatOpenAI.completion_with_retry.<locals>._completion_with_retry in 4.0 seconds as it raised ServiceUnavailableError: The server is overloaded or not ready yet..\n"
     ]
    },
    {
     "name": "stdout",
     "output_type": "stream",
     "text": [
      "\n",
      "\u001b[1m> Finished chain.\u001b[0m\n"
     ]
    }
   ],
   "source": [
    "sam_instruction = sam_instruction_for_client_chain(description)"
   ]
  },
  {
   "cell_type": "code",
   "execution_count": 80,
   "id": "f261d8e4-a257-4e87-8e2e-9ac62de09d3c",
   "metadata": {},
   "outputs": [
    {
     "name": "stdout",
     "output_type": "stream",
     "text": [
      "Шаблон инструкции для компании ООО «РеоКат»:\n",
      "\n",
      "Шаг 0: Берем TAM в виде денежного объема и/или кол-ва клиентов и/или объема спроса.\n",
      "\n",
      "Определите общий рыночный потенциал для услуг компании ООО «РеоКат» в области сервиса катализаторов нефтепереработки и систем аминовой очистки газов. Это может быть выражено в денежном объеме, количестве клиентов или объеме спроса на такие услуги.\n",
      "\n",
      "Шаг 1: Разделение Потребности по Типам Прямой и Косвенной Конкуренции\n",
      "\n",
      "Идентифицируйте различные типы конкуренции на рынке - прямую (конкуренты, предоставляющие аналогичные услуги по сервису катализаторов и систем аминовой очистки) и косвенную (альтернативные решения для удовлетворения потребности, например, замена катализаторов или систем аминовой очистки). Разделите объем потребности из TAM между этими типами конкуренции, чтобы понять, какую часть рынка контролируют ваши конкуренты, а какую - открыта для вас.\n",
      "\n",
      "Шаг 2: Допущение о Доли Рынка\n",
      "\n",
      "Проанализируйте, какую долю рынка вы хотели бы получить у конкурентов в области сервиса катализаторов нефтепереработки и систем аминовой очистки газов. Это может быть основано на вашей стратегии роста и конкурентных преимуществах компании ООО «РеоКат».\n",
      "\n",
      "Шаг 3: Допущение о Новых Клиентах\n",
      "\n",
      "Рассмотрите возможность привлечения новых клиентов, которые ранее не пользовались услугами по сервису катализаторов нефтепереработки и систем аминовой очистки газов. Сделайте предположение о том, сколько из этих клиентов могли бы стать вашими клиентами благодаря конкурентным преимуществам компании ООО «РеоКат» (например, высокое качество обслуживания, опытные специалисты).\n",
      "\n",
      "Шаг 4: Рассчет Количества Клиентов и Потребностей\n",
      "\n",
      "Используя знания о количестве потребности на потребителя (полученные при расчете TAM) и допущения из предыдущих шагов, рассчитайте количество клиентов и потребностей, которые компания ООО «РеоКат» может охватить в рамках своей стратегии. Учтите специфику услуг по сервису катализаторов нефтепереработки и систем аминовой очистки газов, а также потенциальные изменения в рыночной ситуации.\n"
     ]
    }
   ],
   "source": [
    "print(sam_instruction['text'])"
   ]
  },
  {
   "cell_type": "markdown",
   "id": "84a3ac8f-8104-4354-b53f-e59354fcf494",
   "metadata": {},
   "source": [
    "#### SOM"
   ]
  },
  {
   "cell_type": "markdown",
   "id": "c498a53f-eabe-440e-b704-a2265157dba8",
   "metadata": {},
   "source": [
    "Пример расчета SOM из статьи https://productframework.ru/tam_sam_som\n",
    "\n",
    "\n",
    "1. Берем объем клиентов и потребностей из SAM\n",
    "2. Определяем\n",
    "    * Ресурсы необходимые для привлечения потребителей и обеспечения сделок\n",
    "    * Последовательно определяем факторы ограничений, которые снижают потенциал компании на доступ к рассчитанному объему клиентов.\n",
    "    * Пытаемся учесть изменчивость этих ресурсов за выбранный пероди оценки рынка\n",
    "3. Делаем допущение о среднем чеке одной сделки\n",
    "4. Рассчитываем итоговый объем клиентов и доходов."
   ]
  },
  {
   "cell_type": "markdown",
   "id": "60506fb0-34f7-4e60-90b3-9d7c41333fcb",
   "metadata": {},
   "source": [
    "**Детальная инструкция расчета SOM**"
   ]
  },
  {
   "cell_type": "markdown",
   "id": "cc09e8ed-0e71-4541-a9a7-f242f7b9a2b3",
   "metadata": {},
   "source": [
    "**Оценка Serviceable Obtainable Market (SOM)**\r\n",
    "\r\n",
    "**Шаг 1: Берем объем клиентов и потребностей из SAM**\r\n",
    "Изучите Serviceable Addressable Market (SAM), который вы предварительно определили. Это количество клиентов, которых вы можете реалистично обслужить, учитывая ваши ресурсы и ограничения.\r\n",
    "\r\n",
    "**Шаг 2: Определяем**\r\n",
    "1. Ресурсы необходимые для привлечения потребителей и обеспечения сделок. Оцените, сколько средств, персонала и времени потребуется для маркетинга, продаж и обслуживания клиентов.\r\n",
    "2. Последовательно определяем факторы ограничений, которые снижают потенциал компании на доступ к рассчитанному объему клиентов. Это может включать в себя конкурентов, ограничения ресурсов и другие факторы, которые могут ограничить вашу способность привлечь клиентов.\r\n",
    "3. Пытаемся учесть изменчивость этих ресурсов за выбранный период оценки рынка. Учтите, что ресурсы и условия могут меняться, поэтому стоит предусмотреть эту изменчивость в оценке.\r\n",
    "\r\n",
    "**Шаг 3: Делаем допущение о среднем чеке одной сделки**\r\n",
    "Оцените, какую сумму в среднем приносит одна сделка или клиент. Это может быть вашим средним доходом от продажи продукта или услуги.\r\n",
    "\r\n",
    "**Шаг 4: Рассчитываем итоговый объем клиентов и доходов**\r\n",
    "Используя данные из Шага 2, определите, сколько клиентов компания реально может обслуживать с учетом ресурсов и ограничений.\r\n",
    "1. Умножьте количество клиентов, которых компания реально может обработать (из Шага 2) на ваше допущение о среднем чеке сделки. Это даст вам оценку доходов от тех клиентов, которых вы фактически сможете обслуживать.\r\n",
    "2. Учтите факторы изменчивости и ограничения, которые вы установили на Шаге 2, чтобы сделать оценку более точной.\r\n"
   ]
  },
  {
   "cell_type": "code",
   "execution_count": 81,
   "id": "2ae412e1-ec5c-4362-a05c-90d1142abbb5",
   "metadata": {},
   "outputs": [],
   "source": [
    "som_instruction_for_client_prompt = '''\n",
    "\n",
    "Измени шаблон инструкции в соответствии с описанием компании, чтобы владельцу компании было легко собрать необходимые данные и посчитать SAM.\n",
    "\n",
    "Шаблон инструкции:\n",
    "```\n",
    "**Шаг 1: Берем объем клиентов и потребностей из SAM**\n",
    "Изучите Serviceable Addressable Market (SAM), который вы предварительно определили. Это количество клиентов, которых вы можете реалистично обслужить, учитывая ваши ресурсы и ограничения.\n",
    "\n",
    "**Шаг 2: Определяем**\n",
    "1. Ресурсы необходимые для привлечения потребителей и обеспечения сделок. Оцените, сколько средств, персонала и времени потребуется для маркетинга, продаж и обслуживания клиентов.\n",
    "2. Последовательно определяем факторы ограничений, которые снижают потенциал компании на доступ к рассчитанному объему клиентов. Это может включать в себя конкурентов, ограничения ресурсов и другие факторы, которые могут ограничить вашу способность привлечь клиентов.\n",
    "3. Пытаемся учесть изменчивость этих ресурсов за выбранный период оценки рынка. Учтите, что ресурсы и условия могут меняться, поэтому стоит предусмотреть эту изменчивость в оценке.\n",
    "\n",
    "**Шаг 3: Делаем допущение о среднем чеке одной сделки**\n",
    "Оцените, какую сумму в среднем приносит одна сделка или клиент. Это может быть вашим средним доходом от продажи продукта или услуги.\n",
    "\n",
    "**Шаг 4: Рассчитываем итоговый объем клиентов и доходов**\n",
    "Используя данные из Шага 2, определите, сколько клиентов компания реально может обслуживать с учетом ресурсов и ограничений.\n",
    "1. Умножьте количество клиентов, которых компания реально может обработать (из Шага 2) на ваше допущение о среднем чеке сделки. Это даст вам оценку доходов от тех клиентов, которых вы фактически сможете обслуживать.\n",
    "2. Учтите факторы изменчивости и ограничения, которые вы установили на Шаге 2, чтобы сделать оценку более точной.\n",
    "```\n",
    "\n",
    "Описание компании:\n",
    "{text}\n",
    "'''"
   ]
  },
  {
   "cell_type": "code",
   "execution_count": 82,
   "id": "2880a20d-f009-4014-be8b-6fcf302c8a06",
   "metadata": {},
   "outputs": [],
   "source": [
    "som_instruction_for_client_template = ChatPromptTemplate.from_template(som_instruction_for_client_prompt)"
   ]
  },
  {
   "cell_type": "code",
   "execution_count": 83,
   "id": "dc17226e-19fa-40fa-aa8c-1cd78222470d",
   "metadata": {},
   "outputs": [],
   "source": [
    "som_instruction_for_client_chain = LLMChain(\n",
    "    prompt=som_instruction_for_client_template,\n",
    "    llm=llm, \n",
    "    verbose=True\n",
    ")"
   ]
  },
  {
   "cell_type": "code",
   "execution_count": 84,
   "id": "17283431-f228-4b59-8cef-d6e680c554d2",
   "metadata": {},
   "outputs": [],
   "source": [
    "description = '''\"Компания ООО «РеоКат» работает в области сервиса катализаторов нефтепереработки и систем аминовой очистки газов. Компания специализируется на релизации проектов связанных с:\n",
    "1. Мобильными комплексами высокоэффективной регенерации наноструктурированных катализаторов гидропроцессов нефтепереработки, включающий блок очистки отходящих газов.\n",
    "2. Сервисе катализаторных систем: компания  оказывает услуги по выгрузке и загрузке катализаторов и адсорбентов, сульфидированию катализаторов гидроочистки.\n",
    "3. Компания занимается очисткой аминовых растворов от механических примесей и термостабильных солей.Цеолит представляет собой гранулы, длиной 3-6 мм и диаметром 1-2 мм. При эксплуатации цеолита на установках очистки или осушки в течение нескольких лет на нем накапливаются сера и углерод, которые не могут быть удалены при регенерации в процессе и снижают его емкость. Цеолит выгружают из адсорберов и заменяют на новый. Отработанный цеолит направляется на утилизацию. Срок службы цеолита — от 6 месяцев до 4 лет.\"\n",
    "'''"
   ]
  },
  {
   "cell_type": "code",
   "execution_count": 85,
   "id": "6daca52c-34ac-4d9b-b21e-7f2f366a8318",
   "metadata": {},
   "outputs": [
    {
     "name": "stdout",
     "output_type": "stream",
     "text": [
      "\n",
      "\n",
      "\u001b[1m> Entering new LLMChain chain...\u001b[0m\n",
      "Prompt after formatting:\n",
      "\u001b[32;1m\u001b[1;3mHuman: \n",
      "\n",
      "Измени шаблон инструкции в соответствии с описанием компании, чтобы владельцу компании было легко собрать необходимые данные и посчитать SAM.\n",
      "\n",
      "Шаблон инструкции:\n",
      "```\n",
      "**Шаг 1: Берем объем клиентов и потребностей из SAM**\n",
      "Изучите Serviceable Addressable Market (SAM), который вы предварительно определили. Это количество клиентов, которых вы можете реалистично обслужить, учитывая ваши ресурсы и ограничения.\n",
      "\n",
      "**Шаг 2: Определяем**\n",
      "1. Ресурсы необходимые для привлечения потребителей и обеспечения сделок. Оцените, сколько средств, персонала и времени потребуется для маркетинга, продаж и обслуживания клиентов.\n",
      "2. Последовательно определяем факторы ограничений, которые снижают потенциал компании на доступ к рассчитанному объему клиентов. Это может включать в себя конкурентов, ограничения ресурсов и другие факторы, которые могут ограничить вашу способность привлечь клиентов.\n",
      "3. Пытаемся учесть изменчивость этих ресурсов за выбранный период оценки рынка. Учтите, что ресурсы и условия могут меняться, поэтому стоит предусмотреть эту изменчивость в оценке.\n",
      "\n",
      "**Шаг 3: Делаем допущение о среднем чеке одной сделки**\n",
      "Оцените, какую сумму в среднем приносит одна сделка или клиент. Это может быть вашим средним доходом от продажи продукта или услуги.\n",
      "\n",
      "**Шаг 4: Рассчитываем итоговый объем клиентов и доходов**\n",
      "Используя данные из Шага 2, определите, сколько клиентов компания реально может обслуживать с учетом ресурсов и ограничений.\n",
      "1. Умножьте количество клиентов, которых компания реально может обработать (из Шага 2) на ваше допущение о среднем чеке сделки. Это даст вам оценку доходов от тех клиентов, которых вы фактически сможете обслуживать.\n",
      "2. Учтите факторы изменчивости и ограничения, которые вы установили на Шаге 2, чтобы сделать оценку более точной.\n",
      "```\n",
      "\n",
      "Описание компании:\n",
      "\"Компания ООО «РеоКат» работает в области сервиса катализаторов нефтепереработки и систем аминовой очистки газов. Компания специализируется на релизации проектов связанных с:\n",
      "1. Мобильными комплексами высокоэффективной регенерации наноструктурированных катализаторов гидропроцессов нефтепереработки, включающий блок очистки отходящих газов.\n",
      "2. Сервисе катализаторных систем: компания  оказывает услуги по выгрузке и загрузке катализаторов и адсорбентов, сульфидированию катализаторов гидроочистки.\n",
      "3. Компания занимается очисткой аминовых растворов от механических примесей и термостабильных солей.Цеолит представляет собой гранулы, длиной 3-6 мм и диаметром 1-2 мм. При эксплуатации цеолита на установках очистки или осушки в течение нескольких лет на нем накапливаются сера и углерод, которые не могут быть удалены при регенерации в процессе и снижают его емкость. Цеолит выгружают из адсорберов и заменяют на новый. Отработанный цеолит направляется на утилизацию. Срок службы цеолита — от 6 месяцев до 4 лет.\"\n",
      "\n",
      "\u001b[0m\n",
      "\n",
      "\u001b[1m> Finished chain.\u001b[0m\n"
     ]
    }
   ],
   "source": [
    "som_instruction = som_instruction_for_client_chain(description)"
   ]
  },
  {
   "cell_type": "code",
   "execution_count": 86,
   "id": "3c430a79-1272-48f4-91b2-bee924d02d1d",
   "metadata": {},
   "outputs": [
    {
     "name": "stdout",
     "output_type": "stream",
     "text": [
      "**Шаг 1: Берем объем клиентов и потребностей из SAM**\n",
      "Изучите Serviceable Addressable Market (SAM), который вы предварительно определили. Это количество клиентов, которых вы можете реалистично обслужить, учитывая ваши ресурсы и ограничения.\n",
      "\n",
      "**Шаг 2: Определяем**\n",
      "1. Ресурсы необходимые для привлечения потребителей и обеспечения сделок. Оцените, сколько средств, персонала и времени потребуется для маркетинга, продаж и обслуживания клиентов в области сервиса катализаторов нефтепереработки и систем аминовой очистки газов.\n",
      "2. Последовательно определяем факторы ограничений, которые снижают потенциал компании на доступ к рассчитанному объему клиентов в данной области. Это может включать в себя конкурентов, ограничения ресурсов и другие факторы, которые могут ограничить вашу способность привлечь клиентов в данной области.\n",
      "3. Пытаемся учесть изменчивость этих ресурсов за выбранный период оценки рынка в области сервиса катализаторов нефтепереработки и систем аминовой очистки газов. Учтите, что ресурсы и условия могут меняться, поэтому стоит предусмотреть эту изменчивость в оценке.\n",
      "\n",
      "**Шаг 3: Делаем допущение о среднем чеке одной сделки**\n",
      "Оцените, какую сумму в среднем приносит одна сделка или клиент в области сервиса катализаторов нефтепереработки и систем аминовой очистки газов. Это может быть вашим средним доходом от продажи продукта или услуги.\n",
      "\n",
      "**Шаг 4: Рассчитываем итоговый объем клиентов и доходов**\n",
      "Используя данные из Шага 2, определите, сколько клиентов компания реально может обслуживать с учетом ресурсов и ограничений в области сервиса катализаторов нефтепереработки и систем аминовой очистки газов.\n",
      "1. Умножьте количество клиентов, которых компания реально может обработать (из Шага 2) на ваше допущение о среднем чеке сделки. Это даст вам оценку доходов от тех клиентов, которых вы фактически сможете обслуживать в области сервиса катализаторов нефтепереработки и систем аминовой очистки газов.\n",
      "2. Учтите факторы изменчивости и ограничения, которые вы установили на Шаге 2, чтобы сделать оценку более точной в области сервиса катализаторов нефтепереработки и систем аминовой очистки газов.\n"
     ]
    }
   ],
   "source": [
    "print(som_instruction['text'])"
   ]
  },
  {
   "cell_type": "markdown",
   "id": "eaa1992f-df3a-4fc1-82cf-721bcf2daa69",
   "metadata": {},
   "source": [
    "### Конкуренты"
   ]
  },
  {
   "cell_type": "markdown",
   "id": "9310e0ce-c0ac-4058-a84b-65430280ab52",
   "metadata": {},
   "source": [
    "Нужно найти конкурентов и постараться определить свои конкурентные преимущества."
   ]
  },
  {
   "cell_type": "code",
   "execution_count": 81,
   "id": "a080a4cd-a53d-4b73-ae97-292a6a2ee857",
   "metadata": {},
   "outputs": [],
   "source": [
    "prompt = '''\n",
    "Описание компании:\n",
    "{text}\n",
    "'''"
   ]
  },
  {
   "cell_type": "code",
   "execution_count": 82,
   "id": "e8c04d23-2a56-404e-8244-fd08c60f42ff",
   "metadata": {},
   "outputs": [],
   "source": [
    "template = ChatPromptTemplate.from_template(prompt)"
   ]
  },
  {
   "cell_type": "code",
   "execution_count": 83,
   "id": "a84adfe8-6545-4675-8ab4-115034378783",
   "metadata": {},
   "outputs": [],
   "source": [
    "chain = LLMChain(\n",
    "    prompt=template,\n",
    "    llm=llm, \n",
    "    verbose=True\n",
    ")"
   ]
  },
  {
   "cell_type": "code",
   "execution_count": 84,
   "id": "6d586a9c-3f49-4515-b8ed-33908875442d",
   "metadata": {},
   "outputs": [],
   "source": [
    "description = '''\"Компания ООО «РеоКат» работает в области сервиса катализаторов нефтепереработки и систем аминовой очистки газов. Компания специализируется на релизации проектов связанных с:\n",
    "1. Мобильными комплексами высокоэффективной регенерации наноструктурированных катализаторов гидропроцессов нефтепереработки, включающий блок очистки отходящих газов.\n",
    "2. Сервисе катализаторных систем: компания  оказывает услуги по выгрузке и загрузке катализаторов и адсорбентов, сульфидированию катализаторов гидроочистки.\n",
    "3. Компания занимается очисткой аминовых растворов от механических примесей и термостабильных солей.Цеолит представляет собой гранулы, длиной 3-6 мм и диаметром 1-2 мм. При эксплуатации цеолита на установках очистки или осушки в течение нескольких лет на нем накапливаются сера и углерод, которые не могут быть удалены при регенерации в процессе и снижают его емкость. Цеолит выгружают из адсорберов и заменяют на новый. Отработанный цеолит направляется на утилизацию. Срок службы цеолита — от 6 месяцев до 4 лет.\"\n",
    "'''"
   ]
  },
  {
   "cell_type": "code",
   "execution_count": 85,
   "id": "f6180eba-b618-4595-80eb-80ac5379e89c",
   "metadata": {
    "collapsed": true,
    "jupyter": {
     "outputs_hidden": true
    }
   },
   "outputs": [
    {
     "name": "stdout",
     "output_type": "stream",
     "text": [
      "\n",
      "\n",
      "\u001b[1m> Entering new LLMChain chain...\u001b[0m\n",
      "Prompt after formatting:\n",
      "\u001b[32;1m\u001b[1;3mHuman: \n",
      "\n",
      "Измени шаблон инструкции в соответствии с описанием компании, чтобы владельцу компании было легко собрать необходимые данные и посчитать SAM.\n",
      "\n",
      "Шаблон инструкции:\n",
      "```\n",
      "**Шаг 1: Берем объем клиентов и потребностей из SAM**\n",
      "Изучите Serviceable Addressable Market (SAM), который вы предварительно определили. Это количество клиентов, которых вы можете реалистично обслужить, учитывая ваши ресурсы и ограничения.\n",
      "\n",
      "**Шаг 2: Определяем**\n",
      "1. Ресурсы необходимые для привлечения потребителей и обеспечения сделок. Оцените, сколько средств, персонала и времени потребуется для маркетинга, продаж и обслуживания клиентов.\n",
      "2. Последовательно определяем факторы ограничений, которые снижают потенциал компании на доступ к рассчитанному объему клиентов. Это может включать в себя конкурентов, ограничения ресурсов и другие факторы, которые могут ограничить вашу способность привлечь клиентов.\n",
      "3. Пытаемся учесть изменчивость этих ресурсов за выбранный период оценки рынка. Учтите, что ресурсы и условия могут меняться, поэтому стоит предусмотреть эту изменчивость в оценке.\n",
      "\n",
      "**Шаг 3: Делаем допущение о среднем чеке одной сделки**\n",
      "Оцените, какую сумму в среднем приносит одна сделка или клиент. Это может быть вашим средним доходом от продажи продукта или услуги.\n",
      "\n",
      "**Шаг 4: Рассчитываем итоговый объем клиентов и доходов**\n",
      "Используя данные из Шага 2, определите, сколько клиентов компания реально может обслуживать с учетом ресурсов и ограничений.\n",
      "1. Умножьте количество клиентов, которых компания реально может обработать (из Шага 2) на ваше допущение о среднем чеке сделки. Это даст вам оценку доходов от тех клиентов, которых вы фактически сможете обслуживать.\n",
      "2. Учтите факторы изменчивости и ограничения, которые вы установили на Шаге 2, чтобы сделать оценку более точной.\n",
      "```\n",
      "\n",
      "Описание компании:\n",
      "\"Компания ООО «РеоКат» работает в области сервиса катализаторов нефтепереработки и систем аминовой очистки газов. Компания специализируется на релизации проектов связанных с:\n",
      "1. Мобильными комплексами высокоэффективной регенерации наноструктурированных катализаторов гидропроцессов нефтепереработки, включающий блок очистки отходящих газов.\n",
      "2. Сервисе катализаторных систем: компания  оказывает услуги по выгрузке и загрузке катализаторов и адсорбентов, сульфидированию катализаторов гидроочистки.\n",
      "3. Компания занимается очисткой аминовых растворов от механических примесей и термостабильных солей.Цеолит представляет собой гранулы, длиной 3-6 мм и диаметром 1-2 мм. При эксплуатации цеолита на установках очистки или осушки в течение нескольких лет на нем накапливаются сера и углерод, которые не могут быть удалены при регенерации в процессе и снижают его емкость. Цеолит выгружают из адсорберов и заменяют на новый. Отработанный цеолит направляется на утилизацию. Срок службы цеолита — от 6 месяцев до 4 лет.\"\n",
      "\n",
      "\u001b[0m\n",
      "\n",
      "\u001b[1m> Finished chain.\u001b[0m\n"
     ]
    }
   ],
   "source": [
    "answer = chain(description)"
   ]
  },
  {
   "cell_type": "markdown",
   "id": "7032d13b-7519-4621-9733-fa82130b19d1",
   "metadata": {},
   "source": [
    "Сделаем с помощью агента с DuckDuckGo."
   ]
  },
  {
   "cell_type": "code",
   "execution_count": 110,
   "id": "378cfaed-6186-431f-999c-26ff92ef90c9",
   "metadata": {},
   "outputs": [],
   "source": [
    "agent_description = '''You are very powerful assistant, that finds competitors in the internet. If your search doesnt yeild result,\n",
    "you can be creative and try different creative search queries for up to 3 times.'''"
   ]
  },
  {
   "cell_type": "code",
   "execution_count": 111,
   "id": "f82f8821-313c-4218-8775-2e41a90cac2f",
   "metadata": {},
   "outputs": [],
   "source": [
    "tools = [DuckDuckGoSearchRun()]\n",
    "system_message = SystemMessage(content=agent_description)\n",
    "prompt = OpenAIFunctionsAgent.create_prompt(system_message=system_message)\n",
    "\n",
    "llm_high_temp = ChatOpenAI(temperature=0.9,model=model)\n",
    "\n",
    "agent = OpenAIFunctionsAgent(llm=llm_high_temp, tools=tools, prompt=prompt)\n",
    "agent_executor_competitor = AgentExecutor(agent=agent, tools=tools, verbose=True)"
   ]
  },
  {
   "cell_type": "code",
   "execution_count": 112,
   "id": "6517a1cf-c38b-4123-b069-78c65b10576c",
   "metadata": {},
   "outputs": [
    {
     "name": "stdout",
     "output_type": "stream",
     "text": [
      "\n",
      "\n",
      "\u001b[1m> Entering new AgentExecutor chain...\u001b[0m\n",
      "\u001b[32;1m\u001b[1;3m\n",
      "Invoking: `duckduckgo_search` with `competitors of Производят катализаторы для нефтехимии in Russia`\n",
      "\n",
      "\n",
      "\u001b[0m\u001b[36;1m\u001b[1;3m30/04/2021: Катализаторы для нефтехимии и нефтепереработки. Критическая зависимость от ... 07:38, 24.03.2023 Российская нефтепереработка преодолевает санкции за счет развития собственных катализаторных производств Фото: catalysts.gazprom-neft.ru Год прошел с момента, как Евросоюз решил сделать \"невозможной модернизацию российских нефтеперерабатывающих заводов\" (НПЗ). Современные катализаторы нужны для выпуска всех видов топлива экологического стандарта Евро-5. Этот стандарт действует в Евросоюзе с 2008-2009 годов. Он позволяет превращать тяжелые нефтяные фракции в компоненты моторных топлив и сырье для нефтехимии. Суммарный спрос на эту группу катализаторов в России составляет порядка 12-12,5 тыс. т в ... 2022 Для производства из нефти топлив и более сложных продуктов, например полиэтилена или полипропилена, необходимы катализаторы. Многие из них закупались за рубежом.\u001b[0m\u001b[32;1m\u001b[1;3m\n",
      "Invoking: `duckduckgo_search` with `competitors of catalysts for petrochemicals in Russia`\n",
      "\n",
      "\n",
      "\u001b[0m\u001b[36;1m\u001b[1;3mThe polymerization catalysts market, worth about $9.8 billion, accounted for more than half the entire chemical-processing catalysts market in 2021, according to the Catalysts, Petroleum, and Chemical Process report published recently by S&P Global's Specialty Chemicals Update Program. Not registered? The National Petrochemical Company has started exporting domestically-produced catalysts to Russian private petrochem companies, the managing director of NPC said. \"NPC has signed deals with ... Earlier this year, NPC signed deals with Russian private petrochemical firms, including SIBUR, to provide them catalysts. SIBUR is one of the world's fastest-growing petrochemical players and ... Scientists from the A.V. Topchiyev Petrochemical Synthesis Institute of the Russian Academy of Sciences, the I.M. Sechenov First Moscow State Medical University, Mendeleev University of Chemical Technology, the A.N. Nesmeyanov Heterorganic Compounds Institute of the Russian Academy of Sciences, and Moscow Institute of Physics and Technology join... Refinery Catalyst Market by Type (FCC Catalysts, Hydrotreating Catalysts, Hydrocracking Catalysts, and Catalytic Reforming Catalysts), Ingredient (Zeolites, Metal, and Chemical Compounds), Region - Global Forecast to 2025 Description TABLE OF Contents METHODOLOGY DOWNLOAD PDF Updated on : February 01, 2023 Refinery Catalyst Market Analysis\u001b[0m\u001b[32;1m\u001b[1;3m\n",
      "Invoking: `duckduckgo_search` with `competitors of catalyst manufacturers for petrochemicals in Russia`\n",
      "\n",
      "\n",
      "\u001b[0m\u001b[36;1m\u001b[1;3mThe global catalyst market acquired a value of about USD 34 billion in 2020. The market is expected to grow at a CAGR of 5% during the forecast period of 2021 to 2026. ... The market is expected to be driven by the rising demand for the product in petrochemical and chemical applications as several manufacturers are trying to add value to their ... SIBUR is one of the world's fastest-growing petrochemical players and Russia's leading polymer and rubber manufacturer. Referring to the quality of Iranian catalysts, the NPC chief said,... \"NPC has signed deals with Russian petrochem firms, including SIBUR, to provide them catalysts and licenses,\" Morteza Shah-Mirzaei was also quoted as saying by the Oil Ministry's news portal.... The refinery catalysts market comprises major players such Albemarle Corporation (US), W R Grace (US), BASF (Germany), Haldor Topsoe (Denmark), Honeywell UOP (US), Clariant (Switzerland), Axens (France), Johnson Matthey (UK), China Petroleum and Chemical Corporation (Sinopec) (China), and Shell Catalyst & Technologies (Netherlands), Arkema (Fran... Major players in the precious metal catalyst market are BASF SE, Johnson Matthey, Heraeus Group, Clariant International, Umicore, Alfa Aesar, Shaanxi Kai Da Chemical Engineering, Xi'an Catalyst...\u001b[0m\u001b[32;1m\u001b[1;3mBased on the search results, here are some potential competitors for a company that produces catalysts for petrochemicals in Russia:\n",
      "\n",
      "1. Sibur: Sibur is one of the world's fastest-growing petrochemical players and Russia's leading polymer and rubber manufacturer. They are involved in various sectors of the petrochemical industry, including catalysts.\n",
      "\n",
      "2. Albemarle Corporation: Albemarle Corporation is a global specialty chemicals company that provides catalysts and other innovative solutions for various industries, including the petrochemical sector.\n",
      "\n",
      "3. W R Grace: W R Grace is a leading supplier of catalysts and other chemical products. They offer a wide range of catalyst solutions for the petrochemical industry.\n",
      "\n",
      "4. BASF: BASF is a multinational chemical company that offers catalysts for various applications, including petrochemicals. They are known for their expertise in developing innovative and sustainable catalyst technologies.\n",
      "\n",
      "5. Haldor Topsoe: Haldor Topsoe is a Danish company that specializes in catalysts and process technology for the petrochemical industry. They offer a range of catalyst solutions for the production of chemicals and fuels.\n",
      "\n",
      "Please note that this is not an exhaustive list, and there may be other competitors in the market as well.\u001b[0m\n",
      "\n",
      "\u001b[1m> Finished chain.\u001b[0m\n"
     ]
    }
   ],
   "source": [
    "query = 'Производят катализаторы для нефтехимии'\n",
    "answer_competitors_list = agent_executor_competitor(f'Find competitors for a company that {query} in russia')"
   ]
  },
  {
   "cell_type": "code",
   "execution_count": 113,
   "id": "9ab1999e-a8dc-4450-ad0d-7f28054f82eb",
   "metadata": {},
   "outputs": [
    {
     "name": "stdout",
     "output_type": "stream",
     "text": [
      "Based on the search results, here are some potential competitors for a company that produces catalysts for petrochemicals in Russia:\n",
      "\n",
      "1. Sibur: Sibur is one of the world's fastest-growing petrochemical players and Russia's leading polymer and rubber manufacturer. They are involved in various sectors of the petrochemical industry, including catalysts.\n",
      "\n",
      "2. Albemarle Corporation: Albemarle Corporation is a global specialty chemicals company that provides catalysts and other innovative solutions for various industries, including the petrochemical sector.\n",
      "\n",
      "3. W R Grace: W R Grace is a leading supplier of catalysts and other chemical products. They offer a wide range of catalyst solutions for the petrochemical industry.\n",
      "\n",
      "4. BASF: BASF is a multinational chemical company that offers catalysts for various applications, including petrochemicals. They are known for their expertise in developing innovative and sustainable catalyst technologies.\n",
      "\n",
      "5. Haldor Topsoe: Haldor Topsoe is a Danish company that specializes in catalysts and process technology for the petrochemical industry. They offer a range of catalyst solutions for the production of chemicals and fuels.\n",
      "\n",
      "Please note that this is not an exhaustive list, and there may be other competitors in the market as well.\n"
     ]
    }
   ],
   "source": [
    "print(answer_competitors_list['output'])"
   ]
  },
  {
   "cell_type": "markdown",
   "id": "522aed7f-3775-4922-be7c-151d836b3dcd",
   "metadata": {},
   "source": [
    "**Генерация конкурентных преимущств**"
   ]
  },
  {
   "cell_type": "code",
   "execution_count": 106,
   "id": "d4e26e0e-ad40-456b-900d-abbc357a1320",
   "metadata": {},
   "outputs": [],
   "source": [
    "agent_description = '''You are a very powerful assistant who determines the competitive advantages of the company in relation to its competitors. You are given the name of the company and its description, as well as the names of competitors. If necessary, you can search for additional information about competitors in order to deduce the company's competitive advantages.'''\n"
   ]
  },
  {
   "cell_type": "code",
   "execution_count": 114,
   "id": "c84f3d96-273f-4516-9463-6fd4fe7e970a",
   "metadata": {},
   "outputs": [],
   "source": [
    "tools = [DuckDuckGoSearchRun()]\n",
    "system_message = SystemMessage(content=agent_description)\n",
    "prompt = OpenAIFunctionsAgent.create_prompt(system_message=system_message)\n",
    "\n",
    "llm_high_temp = ChatOpenAI(temperature=0.9,model=model)\n",
    "\n",
    "agent = OpenAIFunctionsAgent(llm=llm_high_temp, tools=tools, prompt=prompt)\n",
    "agent_executor_competitor = AgentExecutor(agent=agent, tools=tools, verbose=True)"
   ]
  },
  {
   "cell_type": "code",
   "execution_count": 116,
   "id": "50f6db70-f0cb-40ac-98fa-9443431a40a4",
   "metadata": {},
   "outputs": [
    {
     "name": "stdout",
     "output_type": "stream",
     "text": [
      "\n",
      "\n",
      "\u001b[1m> Entering new AgentExecutor chain...\u001b[0m\n",
      "\u001b[32;1m\u001b[1;3mКомпания ООО «РеоКат» имеет ряд конкурентных преимуществ, которые могут помочь ей выделиться среди своих конкурентов:\n",
      "\n",
      "1. Специализация в области сервиса катализаторов нефтепереработки и систем аминовой очистки газов: Компания специализируется исключительно на этой области, что позволяет ей обладать глубокими знаниями и опытом в этих процессах.\n",
      "\n",
      "2. Мобильные комплексы высокоэффективной регенерации наноструктурированных катализаторов гидропроцессов нефтепереработки: Компания предлагает инновационные и эффективные решения для регенерации катализаторов, что может сократить затраты на их замену и повысить производительность процессов нефтепереработки.\n",
      "\n",
      "3. Знание и опыт в сфере сульфидирования катализаторов гидроочистки: Компания предоставляет услуги по сульфидированию катализаторов гидроочистки, что может помочь клиентам улучшить эффективность и долговечность своих систем очистки.\n",
      "\n",
      "4. Очистка аминовых растворов от механических примесей и термостабильных солей: Компания имеет экспертизу в области очистки аминовых растворов, что может помочь предприятиям снизить содержание примесей и солей в своих процессах и повысить качество продукции.\n",
      "\n",
      "5. Гибкость и мобильность: Компания предлагает мобильные комплексы регенерации катализаторов, что позволяет клиентам использовать их на разных объектах и оптимизировать производственные процессы.\n",
      "\n",
      "6. Опыт работы на рынке: Компания имеет опыт работы на рынке и может положиться на свою репутацию и доверие клиентов.\n",
      "\n",
      "Эти конкурентные преимущества могут помочь компании ООО «РеоКат» привлечь клиентов и удержать их на долгосрочной основе.\u001b[0m\n",
      "\n",
      "\u001b[1m> Finished chain.\u001b[0m\n"
     ]
    }
   ],
   "source": [
    "# query = 'Производят катализаторы для нефтехимии'\n",
    "\n",
    "description = '''\"Компания ООО «РеоКат» работает в области сервиса катализаторов нефтепереработки и систем аминовой очистки газов. Компания специализируется на релизации проектов связанных с:\n",
    "1. Мобильными комплексами высокоэффективной регенерации наноструктурированных катализаторов гидропроцессов нефтепереработки, включающий блок очистки отходящих газов.\n",
    "2. Сервисе катализаторных систем: компания  оказывает услуги по выгрузке и загрузке катализаторов и адсорбентов, сульфидированию катализаторов гидроочистки.\n",
    "3. Компания занимается очисткой аминовых растворов от механических примесей и термостабильных солей.Цеолит представляет собой гранулы, длиной 3-6 мм и диаметром 1-2 мм. При эксплуатации цеолита на установках очистки или осушки в течение нескольких лет на нем накапливаются сера и углерод, которые не могут быть удалены при регенерации в процессе и снижают его емкость. Цеолит выгружают из адсорберов и заменяют на новый. Отработанный цеолит направляется на утилизацию. Срок службы цеолита — от 6 месяцев до 4 лет.\"\n",
    "'''\n",
    "\n",
    "prompt = f'''Название и описание компании: {description}\n",
    "\n",
    "Текст, в котором присутствуют конкуренты:\n",
    "{answer_competitors_list['output']}\n",
    "\n",
    "Тебе нужно вывести конкурентные преимущества компании.\n",
    "'''\n",
    "\n",
    "answer = agent_executor_competitor(prompt)"
   ]
  },
  {
   "cell_type": "markdown",
   "id": "ab9da30f-543e-42bc-a559-cdede27b9708",
   "metadata": {},
   "source": [
    "### Бизнес-модель и ценообразование "
   ]
  },
  {
   "cell_type": "markdown",
   "id": "c7138588-070e-4bf7-bbff-ef6bcbac3b4d",
   "metadata": {},
   "source": [
    "Мы задаем вопрос стартаперу о бизнес-модели."
   ]
  },
  {
   "cell_type": "markdown",
   "id": "ebd32fcc-4930-430d-9d83-5ce5cd8bc583",
   "metadata": {},
   "source": [
    "Напишите способ генерации дохода и основные затраты вашего бизнеса?  \n",
    "А чатГПТ сперва выдает пример того, как он видит способ генерации дохода и основные затраты бизнеса."
   ]
  },
  {
   "cell_type": "markdown",
   "id": "384c9921-82ae-4a89-ba53-3314e4f9d8d8",
   "metadata": {},
   "source": [
    "ЧатГПТ отвечает самостоятельно на часть вопросов:\n",
    "1. Какие каналы вы используете для привлечения клиентов?\n",
    "2. Как вы видите идите масштабирование своей бизнес-модели?"
   ]
  },
  {
   "cell_type": "markdown",
   "id": "6a53c62c-d46f-4011-a0e3-9559f1068b5c",
   "metadata": {},
   "source": [
    "Процедура:  \n",
    "1. ЧатГПТ генерирует самостоятельно ответ на вопрос о способе генерации дохода и основных затратах бизнеса по описанию клиента\n",
    "2. Мы предлагаем это описание в качестве примера и задаем этот вопрос стартаперу\n",
    "3. ЧатГПТ сам отвечает на вопрос о каналах для привлечения клиентов\n",
    "4. Предлагает этот пример стартаперу и просит ввести его самого\n",
    "5. ЧатГПТ сам отвечает на вопрос о масштабировании бизнес модели\n",
    "6. Предложить пример стартаперу и попросить ответить на вопрос"
   ]
  },
  {
   "cell_type": "markdown",
   "id": "5da3935c-2316-4d19-98b2-523ad995b193",
   "metadata": {},
   "source": [
    "##### ЧатГПТ отвечает: Напишите способ генерации дохода и основные затраты вашего бизнеса?"
   ]
  },
  {
   "cell_type": "code",
   "execution_count": 118,
   "id": "263fdcb8-a2b3-41e4-b2b3-f7c67a72ce1d",
   "metadata": {},
   "outputs": [],
   "source": [
    "prompt = '''Напиши способы генерация дохода и основные затраты бизнеса по описанию компании.\n",
    "\n",
    "Описание компании:\n",
    "{text}\n",
    "'''"
   ]
  },
  {
   "cell_type": "code",
   "execution_count": 119,
   "id": "b56d3799-2a3b-45df-a077-b0293fe09a41",
   "metadata": {},
   "outputs": [],
   "source": [
    "template = ChatPromptTemplate.from_template(prompt)"
   ]
  },
  {
   "cell_type": "code",
   "execution_count": 120,
   "id": "0f74407f-ebe3-426f-a741-93e3de054035",
   "metadata": {},
   "outputs": [],
   "source": [
    "chain = LLMChain(\n",
    "    prompt=template,\n",
    "    llm=llm, \n",
    "    verbose=True\n",
    ")"
   ]
  },
  {
   "cell_type": "code",
   "execution_count": 121,
   "id": "eb01b70f-343f-4d46-897d-49a7dfb79706",
   "metadata": {},
   "outputs": [],
   "source": [
    "description = '''\"Компания ООО «РеоКат» работает в области сервиса катализаторов нефтепереработки и систем аминовой очистки газов. Компания специализируется на релизации проектов связанных с:\n",
    "1. Мобильными комплексами высокоэффективной регенерации наноструктурированных катализаторов гидропроцессов нефтепереработки, включающий блок очистки отходящих газов.\n",
    "2. Сервисе катализаторных систем: компания  оказывает услуги по выгрузке и загрузке катализаторов и адсорбентов, сульфидированию катализаторов гидроочистки.\n",
    "3. Компания занимается очисткой аминовых растворов от механических примесей и термостабильных солей.Цеолит представляет собой гранулы, длиной 3-6 мм и диаметром 1-2 мм. При эксплуатации цеолита на установках очистки или осушки в течение нескольких лет на нем накапливаются сера и углерод, которые не могут быть удалены при регенерации в процессе и снижают его емкость. Цеолит выгружают из адсорберов и заменяют на новый. Отработанный цеолит направляется на утилизацию. Срок службы цеолита — от 6 месяцев до 4 лет.\"\n",
    "'''"
   ]
  },
  {
   "cell_type": "code",
   "execution_count": 122,
   "id": "3512a7f3-9345-44c2-b792-03cb05a072db",
   "metadata": {},
   "outputs": [
    {
     "name": "stdout",
     "output_type": "stream",
     "text": [
      "\n",
      "\n",
      "\u001b[1m> Entering new LLMChain chain...\u001b[0m\n",
      "Prompt after formatting:\n",
      "\u001b[32;1m\u001b[1;3mHuman: Напиши способы генерация дохода и основные затраты бизнеса по описанию компании.\n",
      "\n",
      "Описание компании:\n",
      "\"Компания ООО «РеоКат» работает в области сервиса катализаторов нефтепереработки и систем аминовой очистки газов. Компания специализируется на релизации проектов связанных с:\n",
      "1. Мобильными комплексами высокоэффективной регенерации наноструктурированных катализаторов гидропроцессов нефтепереработки, включающий блок очистки отходящих газов.\n",
      "2. Сервисе катализаторных систем: компания  оказывает услуги по выгрузке и загрузке катализаторов и адсорбентов, сульфидированию катализаторов гидроочистки.\n",
      "3. Компания занимается очисткой аминовых растворов от механических примесей и термостабильных солей.Цеолит представляет собой гранулы, длиной 3-6 мм и диаметром 1-2 мм. При эксплуатации цеолита на установках очистки или осушки в течение нескольких лет на нем накапливаются сера и углерод, которые не могут быть удалены при регенерации в процессе и снижают его емкость. Цеолит выгружают из адсорберов и заменяют на новый. Отработанный цеолит направляется на утилизацию. Срок службы цеолита — от 6 месяцев до 4 лет.\"\n",
      "\n",
      "\u001b[0m\n",
      "\n",
      "\u001b[1m> Finished chain.\u001b[0m\n"
     ]
    }
   ],
   "source": [
    "answer = chain(description)"
   ]
  },
  {
   "cell_type": "code",
   "execution_count": 124,
   "id": "ed8609f0-a58d-463f-a716-cc8aa10ffdfd",
   "metadata": {},
   "outputs": [
    {
     "name": "stdout",
     "output_type": "stream",
     "text": [
      "Способы генерации дохода компании ООО «РеоКат»:\n",
      "1. Продажа мобильных комплексов высокоэффективной регенерации наноструктурированных катализаторов гидропроцессов нефтепереработки и блоков очистки отходящих газов.\n",
      "2. Предоставление услуг по выгрузке и загрузке катализаторов и адсорбентов, сульфидированию катализаторов гидроочистки.\n",
      "3. Оказание услуг по очистке аминовых растворов от механических примесей и термостабильных солей.\n",
      "\n",
      "Основные затраты бизнеса компании ООО «РеоКат»:\n",
      "1. Затраты на закупку и производство мобильных комплексов и блоков очистки.\n",
      "2. Затраты на обслуживание и ремонт оборудования.\n",
      "3. Затраты на транспортировку и доставку оборудования и материалов.\n",
      "4. Затраты на оплату труда сотрудников, включая специалистов по сервису и очистке.\n",
      "5. Затраты на маркетинг и рекламу для привлечения клиентов.\n",
      "6. Затраты на утилизацию отработанного цеолита и закупку нового цеолита для замены.\n",
      "7. Затраты на аренду или покупку помещений для производства и офисных помещений.\n",
      "8. Затраты на обучение и повышение квалификации сотрудников.\n"
     ]
    }
   ],
   "source": [
    "print(answer['text'])"
   ]
  },
  {
   "cell_type": "markdown",
   "id": "fa0da8cb-1b94-4234-a4a7-71a8e075fea3",
   "metadata": {},
   "source": [
    "##### ЧатГПТ отвечает: Какие каналы вы используете для привлечения клиентов?"
   ]
  },
  {
   "cell_type": "code",
   "execution_count": 125,
   "id": "774f9656-9780-4ef7-bba2-25a0de9d60c5",
   "metadata": {},
   "outputs": [],
   "source": [
    "prompt = '''Напиши о том, какие каналы привлечения клиентов используются в бизнесе по описанию компании.\n",
    "\n",
    "Описание компании:\n",
    "{text}\n",
    "'''"
   ]
  },
  {
   "cell_type": "code",
   "execution_count": 126,
   "id": "9e04e770-1b94-4b60-a0a6-ef5e19017278",
   "metadata": {},
   "outputs": [],
   "source": [
    "template = ChatPromptTemplate.from_template(prompt)"
   ]
  },
  {
   "cell_type": "code",
   "execution_count": 127,
   "id": "036da36f-d466-4d24-98c8-b804f354c62d",
   "metadata": {},
   "outputs": [],
   "source": [
    "chain = LLMChain(\n",
    "    prompt=template,\n",
    "    llm=llm, \n",
    "    verbose=True\n",
    ")"
   ]
  },
  {
   "cell_type": "code",
   "execution_count": 128,
   "id": "bff868db-bddc-47e8-83fd-cdc1abe25445",
   "metadata": {},
   "outputs": [],
   "source": [
    "description = '''\"Компания ООО «РеоКат» работает в области сервиса катализаторов нефтепереработки и систем аминовой очистки газов. Компания специализируется на релизации проектов связанных с:\n",
    "1. Мобильными комплексами высокоэффективной регенерации наноструктурированных катализаторов гидропроцессов нефтепереработки, включающий блок очистки отходящих газов.\n",
    "2. Сервисе катализаторных систем: компания  оказывает услуги по выгрузке и загрузке катализаторов и адсорбентов, сульфидированию катализаторов гидроочистки.\n",
    "3. Компания занимается очисткой аминовых растворов от механических примесей и термостабильных солей.Цеолит представляет собой гранулы, длиной 3-6 мм и диаметром 1-2 мм. При эксплуатации цеолита на установках очистки или осушки в течение нескольких лет на нем накапливаются сера и углерод, которые не могут быть удалены при регенерации в процессе и снижают его емкость. Цеолит выгружают из адсорберов и заменяют на новый. Отработанный цеолит направляется на утилизацию. Срок службы цеолита — от 6 месяцев до 4 лет.\"\n",
    "'''"
   ]
  },
  {
   "cell_type": "code",
   "execution_count": 129,
   "id": "27db0108-66f4-4cbc-aeec-c451b6f90775",
   "metadata": {},
   "outputs": [
    {
     "name": "stdout",
     "output_type": "stream",
     "text": [
      "\n",
      "\n",
      "\u001b[1m> Entering new LLMChain chain...\u001b[0m\n",
      "Prompt after formatting:\n",
      "\u001b[32;1m\u001b[1;3mHuman: Напиши о том, какие каналы привлечения клиентов используются в бизнесе по описанию компании.\n",
      "\n",
      "Описание компании:\n",
      "\"Компания ООО «РеоКат» работает в области сервиса катализаторов нефтепереработки и систем аминовой очистки газов. Компания специализируется на релизации проектов связанных с:\n",
      "1. Мобильными комплексами высокоэффективной регенерации наноструктурированных катализаторов гидропроцессов нефтепереработки, включающий блок очистки отходящих газов.\n",
      "2. Сервисе катализаторных систем: компания  оказывает услуги по выгрузке и загрузке катализаторов и адсорбентов, сульфидированию катализаторов гидроочистки.\n",
      "3. Компания занимается очисткой аминовых растворов от механических примесей и термостабильных солей.Цеолит представляет собой гранулы, длиной 3-6 мм и диаметром 1-2 мм. При эксплуатации цеолита на установках очистки или осушки в течение нескольких лет на нем накапливаются сера и углерод, которые не могут быть удалены при регенерации в процессе и снижают его емкость. Цеолит выгружают из адсорберов и заменяют на новый. Отработанный цеолит направляется на утилизацию. Срок службы цеолита — от 6 месяцев до 4 лет.\"\n",
      "\n",
      "\u001b[0m\n",
      "\n",
      "\u001b[1m> Finished chain.\u001b[0m\n"
     ]
    }
   ],
   "source": [
    "answer = chain(description)"
   ]
  },
  {
   "cell_type": "code",
   "execution_count": 130,
   "id": "fe2bfc47-1b59-411a-b20b-31380129b1f2",
   "metadata": {},
   "outputs": [
    {
     "name": "stdout",
     "output_type": "stream",
     "text": [
      "Для привлечения клиентов компания ООО «РеоКат» может использовать следующие каналы:\n",
      "\n",
      "1. Прямые продажи: Компания может активно искать потенциальных клиентов и предлагать им свои услуги напрямую. Это может включать в себя отправку персонализированных предложений по электронной почте, проведение презентаций и встреч с потенциальными клиентами, а также активное участие в выставках и конференциях, связанных с нефтепереработкой и аминовой очисткой газов.\n",
      "\n",
      "2. Рекомендации и отзывы клиентов: Компания может стремиться получить положительные отзывы от своих клиентов и использовать их в качестве рекомендаций для привлечения новых клиентов. Это может быть достигнуто через удовлетворение клиентов высоким качеством обслуживания и предоставляемых услуг, а также активное сбор и использование отзывов клиентов.\n",
      "\n",
      "3. Онлайн-присутствие: Компания может использовать свой веб-сайт и социальные медиа для привлечения клиентов. На веб-сайте компании должна быть информация о предоставляемых услугах, преимуществах работы с компанией, контактная информация и возможность оставить заявку на консультацию или предложение. Компания также может использовать социальные медиа для публикации информации о своих услугах, делиться новостями и полезной информацией для клиентов.\n",
      "\n",
      "4. Партнерство с другими компаниями: Компания может установить партнерские отношения с другими компаниями, которые работают в смежных отраслях или предоставляют дополнительные услуги, связанные с нефтепереработкой и аминовой очисткой газов. Это может помочь компании расширить свою клиентскую базу, обмениваться рекомендациями и предоставлять комплексные решения для клиентов.\n",
      "\n",
      "5. Реклама и маркетинг: Компания может использовать различные каналы рекламы и маркетинга, такие как печатные и онлайн-рекламные кампании, участие в специализированных журналах и публикация статей, участие в профессиональных сообществах и ассоциациях, а также организация семинаров и вебинаров для потенциальных клиентов.\n",
      "\n",
      "Все эти каналы могут быть использованы компанией ООО «РеоКат» для привлечения клиентов и продвижения своих услуг в области сервиса катализаторов нефтепереработки и систем аминовой очистки газов.\n"
     ]
    }
   ],
   "source": [
    "print(answer['text'])"
   ]
  },
  {
   "cell_type": "code",
   "execution_count": null,
   "id": "5f71be5a-84dd-45b8-a72a-2fb98ec85275",
   "metadata": {},
   "outputs": [],
   "source": []
  },
  {
   "cell_type": "markdown",
   "id": "9b233b4d-2373-4a87-85ab-f9f79183b996",
   "metadata": {},
   "source": [
    "##### ЧатГПТ отвечает: Как вы видите идите масштабирование своей бизнес-модели?"
   ]
  },
  {
   "cell_type": "code",
   "execution_count": 131,
   "id": "f90443a2-069c-43f8-9699-fe759e17fec9",
   "metadata": {},
   "outputs": [],
   "source": [
    "prompt = '''Напиши о том, как можно масштабировать бизнес модель по описанию компании.\n",
    "\n",
    "Описание компании:\n",
    "{text}\n",
    "'''"
   ]
  },
  {
   "cell_type": "code",
   "execution_count": 132,
   "id": "2eb52399-038c-4eac-9869-35a94950e51d",
   "metadata": {},
   "outputs": [],
   "source": [
    "template = ChatPromptTemplate.from_template(prompt)"
   ]
  },
  {
   "cell_type": "code",
   "execution_count": 133,
   "id": "85c8711c-5e16-4003-bf27-a71bf19084fd",
   "metadata": {},
   "outputs": [],
   "source": [
    "chain = LLMChain(\n",
    "    prompt=template,\n",
    "    llm=llm, \n",
    "    verbose=True\n",
    ")"
   ]
  },
  {
   "cell_type": "code",
   "execution_count": 134,
   "id": "c56b01a3-c4d8-4692-b67b-ac578434d7f4",
   "metadata": {},
   "outputs": [],
   "source": [
    "description = '''\"Компания ООО «РеоКат» работает в области сервиса катализаторов нефтепереработки и систем аминовой очистки газов. Компания специализируется на релизации проектов связанных с:\n",
    "1. Мобильными комплексами высокоэффективной регенерации наноструктурированных катализаторов гидропроцессов нефтепереработки, включающий блок очистки отходящих газов.\n",
    "2. Сервисе катализаторных систем: компания  оказывает услуги по выгрузке и загрузке катализаторов и адсорбентов, сульфидированию катализаторов гидроочистки.\n",
    "3. Компания занимается очисткой аминовых растворов от механических примесей и термостабильных солей.Цеолит представляет собой гранулы, длиной 3-6 мм и диаметром 1-2 мм. При эксплуатации цеолита на установках очистки или осушки в течение нескольких лет на нем накапливаются сера и углерод, которые не могут быть удалены при регенерации в процессе и снижают его емкость. Цеолит выгружают из адсорберов и заменяют на новый. Отработанный цеолит направляется на утилизацию. Срок службы цеолита — от 6 месяцев до 4 лет.\"\n",
    "'''"
   ]
  },
  {
   "cell_type": "code",
   "execution_count": 135,
   "id": "4371030c-2e6c-4688-b7b4-f079610b64ab",
   "metadata": {},
   "outputs": [
    {
     "name": "stdout",
     "output_type": "stream",
     "text": [
      "\n",
      "\n",
      "\u001b[1m> Entering new LLMChain chain...\u001b[0m\n",
      "Prompt after formatting:\n",
      "\u001b[32;1m\u001b[1;3mHuman: Напиши о том, как можно масштабировать бизнес модель по описанию компании.\n",
      "\n",
      "Описание компании:\n",
      "\"Компания ООО «РеоКат» работает в области сервиса катализаторов нефтепереработки и систем аминовой очистки газов. Компания специализируется на релизации проектов связанных с:\n",
      "1. Мобильными комплексами высокоэффективной регенерации наноструктурированных катализаторов гидропроцессов нефтепереработки, включающий блок очистки отходящих газов.\n",
      "2. Сервисе катализаторных систем: компания  оказывает услуги по выгрузке и загрузке катализаторов и адсорбентов, сульфидированию катализаторов гидроочистки.\n",
      "3. Компания занимается очисткой аминовых растворов от механических примесей и термостабильных солей.Цеолит представляет собой гранулы, длиной 3-6 мм и диаметром 1-2 мм. При эксплуатации цеолита на установках очистки или осушки в течение нескольких лет на нем накапливаются сера и углерод, которые не могут быть удалены при регенерации в процессе и снижают его емкость. Цеолит выгружают из адсорберов и заменяют на новый. Отработанный цеолит направляется на утилизацию. Срок службы цеолита — от 6 месяцев до 4 лет.\"\n",
      "\n",
      "\u001b[0m\n",
      "\n",
      "\u001b[1m> Finished chain.\u001b[0m\n"
     ]
    }
   ],
   "source": [
    "answer = chain(description)"
   ]
  },
  {
   "cell_type": "code",
   "execution_count": 136,
   "id": "23a433eb-871f-417b-85da-42a719a452a6",
   "metadata": {},
   "outputs": [
    {
     "name": "stdout",
     "output_type": "stream",
     "text": [
      "Для масштабирования бизнес модели компании ООО «РеоКат» в области сервиса катализаторов нефтепереработки и систем аминовой очистки газов можно использовать следующие подходы:\n",
      "\n",
      "1. Расширение географического охвата: Компания может начать предоставлять свои услуги в других регионах или странах. Это позволит привлечь новых клиентов и увеличить объемы продаж.\n",
      "\n",
      "2. Развитие новых продуктов и услуг: Компания может исследовать и разработать новые продукты и услуги, связанные с областью сервиса катализаторов и систем аминовой очистки газов. Например, можно разработать новые методы регенерации катализаторов или новые технологии очистки аминовых растворов.\n",
      "\n",
      "3. Партнерство с другими компаниями: Компания может заключить партнерские соглашения с другими компаниями, которые работают в смежных областях. Например, можно сотрудничать с производителями нефтеперерабатывающего оборудования или с поставщиками аминовых растворов.\n",
      "\n",
      "4. Автоматизация и оптимизация процессов: Компания может внедрить новые технологии и системы, которые позволят автоматизировать и оптимизировать процессы работы. Например, можно использовать системы мониторинга и управления для повышения эффективности регенерации катализаторов или для улучшения процесса очистки аминовых растворов.\n",
      "\n",
      "5. Развитие новых рынков: Компания может исследовать и войти на новые рынки, связанные с областью сервиса катализаторов и систем аминовой очистки газов. Например, можно начать предоставлять услуги в других отраслях, таких как химическая промышленность или энергетика.\n",
      "\n",
      "6. Увеличение масштаба производства: Компания может увеличить масштаб производства своих продуктов или услуг. Например, можно расширить производственные мощности или внедрить новые технологии производства.\n",
      "\n",
      "В целом, для масштабирования бизнес модели компании ООО «РеоКат» необходимо исследовать рынок, анализировать потребности клиентов и разрабатывать стратегии развития, которые позволят привлечь новых клиентов, увеличить объемы продаж и расширить географический охват.\n"
     ]
    }
   ],
   "source": [
    "print(answer['text'])"
   ]
  },
  {
   "cell_type": "markdown",
   "id": "1f479df2-3957-4a9b-97da-a8e647f99e61",
   "metadata": {},
   "source": [
    "### Трекшн и финансы"
   ]
  },
  {
   "cell_type": "markdown",
   "id": "8e2a6724-d5fa-41e8-afa7-22c2bd3daa87",
   "metadata": {},
   "source": [
    "Нужно чтобы стартапер ввел годовую выручку и кол-во клиентов.\n",
    "\n",
    "Тогда можно рассчитать: \n",
    "APRU\r\n",
    "Churn Rate \r\n",
    "LT\r\n",
    "LTV"
   ]
  },
  {
   "cell_type": "markdown",
   "id": "23c96219-c021-42a8-a656-26a438785569",
   "metadata": {},
   "source": [
    "Как берем churn rate?"
   ]
  },
  {
   "cell_type": "code",
   "execution_count": 117,
   "id": "80317a94-78e9-4e23-a930-24d78730a868",
   "metadata": {},
   "outputs": [],
   "source": [
    "churn_rate_by_industry = {'Энергетика и коммунальные услуги':.11,\n",
    "                          'ИТ-услуги':.12,\n",
    "                          'ПО':.14,\n",
    "                          'Производство промышленного оборудования':.17,\n",
    "                          'Финансовый сектор услуг':.19,\n",
    "                          'Профессиональные услуги: бухгалтерские, юридические, инженерные и т.д.':.27,\n",
    "                          'Телекоммуникации':.31,\n",
    "                          'Производство товаров':.35,\n",
    "                          'Транспорт и перевозки':.40,\n",
    "                          'Производство потребительских товаров':.40,\n",
    "                          'Оптовая торговля':.56}"
   ]
  },
  {
   "cell_type": "markdown",
   "id": "c40c1c26-b884-41ae-9a36-a33580e46e4b",
   "metadata": {},
   "source": [
    "Здесь чатГПТ отвечает на вопрос о трекшене и партнерах, чтобы дать пример стартаперу, а потом просим подобную инфу у стартапера."
   ]
  },
  {
   "cell_type": "markdown",
   "id": "6d0a8f98-c3d4-4350-a9d4-4a67c738aac4",
   "metadata": {},
   "source": [
    "##### ЧатГПТ отвечает: О трекшене и партнерствах"
   ]
  },
  {
   "cell_type": "code",
   "execution_count": 143,
   "id": "85cad5d9-2778-4a69-95b3-330af4c99c88",
   "metadata": {},
   "outputs": [],
   "source": [
    "prompt = '''Напиши пример трекшна и партнерствах в бизнесе по описанию компании.\n",
    "\n",
    "Термин \"трекшн\" (англ. \"traction\") в бизнес-контексте обозначает показатель или показатели, которые демонстрируют рост, прогресс или успешность стартапа или бизнеса. Это может быть количественные данные, которые отражают увеличение клиентской базы, продажи продуктов или услуг, пользовательскую активность, доходы и т.д. Короче говоря, трекшн - это подтверждение того, что бизнес-идея работает на практике и привлекает интерес со стороны пользователей или клиентов.\n",
    "\n",
    "Когда стартап или компания ищет инвестиции или партнерство, трекшн играет важную роль. Инвесторы и потенциальные партнеры обращают внимание на трекшн, чтобы оценить, насколько успешным и перспективным является бизнес. Увеличение трекшн с течением времени указывает на то, что бизнес-модель работает, а клиенты или пользователи заинтересованы в продукте или услуге.\n",
    "\n",
    "Примеры показателей трекшн включают в себя:\n",
    "\n",
    "Количество активных пользователей или клиентов.\n",
    "Объем продаж продуктов или услуг.\n",
    "Рост доходов.\n",
    "Количество скачиваний (для мобильных приложений).\n",
    "Количество подписчиков или подписок (для подписочных сервисов).\n",
    "Уровень удержания клиентов (retention rate).\n",
    "Метрики вовлеченности пользователей (например, время, проведенное на платформе).\n",
    "Общий смысл трекшн заключается в демонстрации того, что бизнес растет и привлекает внимание аудитории.\n",
    "\n",
    "Описание компании:\n",
    "{text}\n",
    "'''"
   ]
  },
  {
   "cell_type": "code",
   "execution_count": 144,
   "id": "a17b40c8-60db-4c36-9493-b15e48f33b0b",
   "metadata": {},
   "outputs": [],
   "source": [
    "template = ChatPromptTemplate.from_template(prompt)"
   ]
  },
  {
   "cell_type": "code",
   "execution_count": 145,
   "id": "feade434-f8ba-43ad-87ca-0848a8d6ec13",
   "metadata": {},
   "outputs": [],
   "source": [
    "chain = LLMChain(\n",
    "    prompt=template,\n",
    "    llm=llm, \n",
    "    verbose=True\n",
    ")"
   ]
  },
  {
   "cell_type": "code",
   "execution_count": 146,
   "id": "02972b22-192d-4670-b9f2-4c67760ff03d",
   "metadata": {},
   "outputs": [],
   "source": [
    "description = '''\"Компания ООО «РеоКат» работает в области сервиса катализаторов нефтепереработки и систем аминовой очистки газов. Компания специализируется на релизации проектов связанных с:\n",
    "1. Мобильными комплексами высокоэффективной регенерации наноструктурированных катализаторов гидропроцессов нефтепереработки, включающий блок очистки отходящих газов.\n",
    "2. Сервисе катализаторных систем: компания  оказывает услуги по выгрузке и загрузке катализаторов и адсорбентов, сульфидированию катализаторов гидроочистки.\n",
    "3. Компания занимается очисткой аминовых растворов от механических примесей и термостабильных солей.Цеолит представляет собой гранулы, длиной 3-6 мм и диаметром 1-2 мм. При эксплуатации цеолита на установках очистки или осушки в течение нескольких лет на нем накапливаются сера и углерод, которые не могут быть удалены при регенерации в процессе и снижают его емкость. Цеолит выгружают из адсорберов и заменяют на новый. Отработанный цеолит направляется на утилизацию. Срок службы цеолита — от 6 месяцев до 4 лет.\"\n",
    "'''"
   ]
  },
  {
   "cell_type": "code",
   "execution_count": 147,
   "id": "d20dd80e-c688-4080-a502-61342eef468f",
   "metadata": {},
   "outputs": [
    {
     "name": "stdout",
     "output_type": "stream",
     "text": [
      "\n",
      "\n",
      "\u001b[1m> Entering new LLMChain chain...\u001b[0m\n",
      "Prompt after formatting:\n",
      "\u001b[32;1m\u001b[1;3mHuman: Напиши пример трекшна и партнерствах в бизнесе по описанию компании.\n",
      "\n",
      "Термин \"трекшн\" (англ. \"traction\") в бизнес-контексте обозначает показатель или показатели, которые демонстрируют рост, прогресс или успешность стартапа или бизнеса. Это может быть количественные данные, которые отражают увеличение клиентской базы, продажи продуктов или услуг, пользовательскую активность, доходы и т.д. Короче говоря, трекшн - это подтверждение того, что бизнес-идея работает на практике и привлекает интерес со стороны пользователей или клиентов.\n",
      "\n",
      "Когда стартап или компания ищет инвестиции или партнерство, трекшн играет важную роль. Инвесторы и потенциальные партнеры обращают внимание на трекшн, чтобы оценить, насколько успешным и перспективным является бизнес. Увеличение трекшн с течением времени указывает на то, что бизнес-модель работает, а клиенты или пользователи заинтересованы в продукте или услуге.\n",
      "\n",
      "Примеры показателей трекшн включают в себя:\n",
      "\n",
      "Количество активных пользователей или клиентов.\n",
      "Объем продаж продуктов или услуг.\n",
      "Рост доходов.\n",
      "Количество скачиваний (для мобильных приложений).\n",
      "Количество подписчиков или подписок (для подписочных сервисов).\n",
      "Уровень удержания клиентов (retention rate).\n",
      "Метрики вовлеченности пользователей (например, время, проведенное на платформе).\n",
      "Общий смысл трекшн заключается в демонстрации того, что бизнес растет и привлекает внимание аудитории.\n",
      "\n",
      "Описание компании:\n",
      "\"Компания ООО «РеоКат» работает в области сервиса катализаторов нефтепереработки и систем аминовой очистки газов. Компания специализируется на релизации проектов связанных с:\n",
      "1. Мобильными комплексами высокоэффективной регенерации наноструктурированных катализаторов гидропроцессов нефтепереработки, включающий блок очистки отходящих газов.\n",
      "2. Сервисе катализаторных систем: компания  оказывает услуги по выгрузке и загрузке катализаторов и адсорбентов, сульфидированию катализаторов гидроочистки.\n",
      "3. Компания занимается очисткой аминовых растворов от механических примесей и термостабильных солей.Цеолит представляет собой гранулы, длиной 3-6 мм и диаметром 1-2 мм. При эксплуатации цеолита на установках очистки или осушки в течение нескольких лет на нем накапливаются сера и углерод, которые не могут быть удалены при регенерации в процессе и снижают его емкость. Цеолит выгружают из адсорберов и заменяют на новый. Отработанный цеолит направляется на утилизацию. Срок службы цеолита — от 6 месяцев до 4 лет.\"\n",
      "\n",
      "\u001b[0m\n",
      "\n",
      "\u001b[1m> Finished chain.\u001b[0m\n"
     ]
    }
   ],
   "source": [
    "answer = chain(description)"
   ]
  },
  {
   "cell_type": "code",
   "execution_count": 148,
   "id": "df5a0684-1bbf-44a8-a665-ca8a43bf7210",
   "metadata": {},
   "outputs": [
    {
     "name": "stdout",
     "output_type": "stream",
     "text": [
      "Пример трекшна и партнерства для компании ООО \"РеоКат\":\n",
      "\n",
      "Компания ООО \"РеоКат\" может демонстрировать свой трекшн и привлекать партнеров, предоставляя следующие показатели:\n",
      "\n",
      "1. Количество активных клиентов: компания может указать, сколько клиентов они обслуживают в настоящее время и как это число растет с течением времени. Например, они могут сообщить, что у них в настоящее время 50 активных клиентов, и это число увеличивается на 10% каждый месяц.\n",
      "\n",
      "2. Объем продаж продуктов и услуг: компания может предоставить данные о своих ежемесячных продажах и показать, как они растут. Например, они могут сообщить, что их ежемесячный объем продаж составляет 100 000 долларов США, и он увеличивается на 20% каждый квартал.\n",
      "\n",
      "3. Рост доходов: компания может указать, как их доходы растут с течением времени. Например, они могут сообщить, что их годовой доход составляет 1 миллион долларов США, и он увеличивается на 30% каждый год.\n",
      "\n",
      "4. Уровень удержания клиентов: компания может указать, как долго их клиенты остаются с ними и какой процент клиентов возвращается для повторных покупок или услуг. Например, они могут сообщить, что уровень удержания клиентов составляет 80%, что означает, что 80% клиентов возвращаются для повторных покупок или услуг.\n",
      "\n",
      "5. Метрики вовлеченности клиентов: компания может предоставить данные о том, насколько активно и долго клиенты используют их продукты или услуги. Например, они могут сообщить, что среднее время, проведенное клиентами на их платформе, составляет 2 часа в день, и это число увеличивается на 10% каждый месяц.\n",
      "\n",
      "Эти показатели трекшна могут помочь компании ООО \"РеоКат\" привлечь инвестиции или партнерство, показывая, что их бизнес успешно растет и привлекает интерес со стороны клиентов.\n"
     ]
    }
   ],
   "source": [
    "print(answer['text'])"
   ]
  },
  {
   "cell_type": "markdown",
   "id": "9e57f3ed-3803-4401-9a1d-c1b9902baa4c",
   "metadata": {},
   "source": [
    "### Команда + борд"
   ]
  }
 ],
 "metadata": {
  "kernelspec": {
   "display_name": "Python 3 (ipykernel)",
   "language": "python",
   "name": "python3"
  },
  "language_info": {
   "codemirror_mode": {
    "name": "ipython",
    "version": 3
   },
   "file_extension": ".py",
   "mimetype": "text/x-python",
   "name": "python",
   "nbconvert_exporter": "python",
   "pygments_lexer": "ipython3",
   "version": "3.11.4"
  }
 },
 "nbformat": 4,
 "nbformat_minor": 5
}
